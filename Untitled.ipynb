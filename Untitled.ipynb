{
 "cells": [
  {
   "cell_type": "code",
   "execution_count": 1,
   "metadata": {},
   "outputs": [],
   "source": [
    "import numpy as np"
   ]
  },
  {
   "cell_type": "code",
   "execution_count": 5,
   "metadata": {},
   "outputs": [],
   "source": [
    "vector_1 = np.array([ [1 - 1.j, 0 ],\n",
    "                      [3+ 4.j, -1 ]  ])"
   ]
  },
  {
   "cell_type": "code",
   "execution_count": 6,
   "metadata": {},
   "outputs": [
    {
     "name": "stdout",
     "output_type": "stream",
     "text": [
      "[[ 1.-1.j  0.+0.j]\n",
      " [ 3.+4.j -1.+0.j]]\n",
      "\n",
      "\n",
      "[[ 1.-1.j  3.+4.j]\n",
      " [ 0.+0.j -1.+0.j]]\n"
     ]
    }
   ],
   "source": [
    "vector_1_transpuesto = np.transpose(vector_1)\n",
    "print(vector_1)\n",
    "print('\\n')\n",
    "print(vector_1_transpuesto)"
   ]
  },
  {
   "cell_type": "code",
   "execution_count": 7,
   "metadata": {},
   "outputs": [
    {
     "name": "stdout",
     "output_type": "stream",
     "text": [
      "[[ 1.-1.j  0.+0.j]\n",
      " [ 3.+4.j -1.+0.j]]\n",
      "\n",
      "\n",
      "[[ 1.+1.j  0.-0.j]\n",
      " [ 3.-4.j -1.-0.j]]\n"
     ]
    }
   ],
   "source": [
    "vector_1_conjugado = np.conj(vector_1)\n",
    "print(vector_1)\n",
    "print('\\n')\n",
    "print(vector_1_conjugado)"
   ]
  },
  {
   "cell_type": "code",
   "execution_count": 8,
   "metadata": {},
   "outputs": [],
   "source": [
    "def daga(arreglo):\n",
    "    '''\n",
    "    La función daga recibe un arreglo de numpy (vector o matriz) \n",
    "    y retorna su transpuesta conjugada o daga. \n",
    "    '''\n",
    "    arreglo_conjugado = np.conj(arreglo)\n",
    "    arreglo_conj_transp = np.transpose(arreglo_conjugado)\n",
    "    \n",
    "    return arreglo_conj_transp"
   ]
  },
  {
   "cell_type": "code",
   "execution_count": 10,
   "metadata": {},
   "outputs": [
    {
     "name": "stdout",
     "output_type": "stream",
     "text": [
      "[[ 1.+1.j  3.-4.j]\n",
      " [ 0.-0.j -1.-0.j]]\n"
     ]
    }
   ],
   "source": [
    "suma_matrices_daga = daga(vector_1)\n",
    "print(suma_matrices_daga)"
   ]
  },
  {
   "cell_type": "code",
   "execution_count": 11,
   "metadata": {},
   "outputs": [],
   "source": [
    "vector_2 = np.array([ [3 + 4.j, -1 ],\n",
    "                      [1, 2.j ]  ])"
   ]
  },
  {
   "cell_type": "code",
   "execution_count": 16,
   "metadata": {},
   "outputs": [
    {
     "name": "stdout",
     "output_type": "stream",
     "text": [
      "[[-1.+7.j 26.+0.j]\n",
      " [ 1.+1.j  3.-6.j]]\n"
     ]
    }
   ],
   "source": [
    "producto_V1_con_V2 = np.matmul(vector_2,suma_matrices_daga)\n",
    "print(producto_V1_con_V2)"
   ]
  },
  {
   "cell_type": "code",
   "execution_count": 17,
   "metadata": {},
   "outputs": [
    {
     "name": "stdout",
     "output_type": "stream",
     "text": [
      "(26+0j)\n"
     ]
    }
   ],
   "source": [
    "print(producto_V1_con_V2[0][1])"
   ]
  },
  {
   "cell_type": "code",
   "execution_count": 18,
   "metadata": {},
   "outputs": [],
   "source": [
    "vector_3 = np.array([ [1, 1 ],\n",
    "                      [1, 0 ]  ])"
   ]
  },
  {
   "cell_type": "code",
   "execution_count": 19,
   "metadata": {},
   "outputs": [],
   "source": [
    "vector_4 = np.array([ [1, 0 ],\n",
    "                      [0, 1 ]  ])"
   ]
  },
  {
   "cell_type": "code",
   "execution_count": 20,
   "metadata": {},
   "outputs": [],
   "source": [
    "k = 0\n",
    "while vector_4[0][0] <= 1000:\n",
    "    vector_4 = np.matmul(vector_4,vector_3)\n",
    "    k= k+1  "
   ]
  },
  {
   "cell_type": "code",
   "execution_count": 21,
   "metadata": {},
   "outputs": [
    {
     "name": "stdout",
     "output_type": "stream",
     "text": [
      "16\n"
     ]
    }
   ],
   "source": [
    "print(k)"
   ]
  },
  {
   "cell_type": "code",
   "execution_count": 22,
   "metadata": {},
   "outputs": [],
   "source": [
    "def prod_interno(v_1, v_2):\n",
    "    '''\n",
    "    Recibe dos vectores complejos y retorna su producto interno\n",
    "    '''\n",
    "    return np.matmul(daga(v_1), v_2)[0][0]"
   ]
  },
  {
   "cell_type": "code",
   "execution_count": 84,
   "metadata": {},
   "outputs": [],
   "source": [
    "vector_5 = np.array([[2.j],\n",
    "                    [1-1.j],\n",
    "                    [2]])"
   ]
  },
  {
   "cell_type": "code",
   "execution_count": 85,
   "metadata": {},
   "outputs": [],
   "source": [
    "vector_6 = np.array([[1],\n",
    "                    [1-1.j],\n",
    "                    [1+ 2.j]])"
   ]
  },
  {
   "cell_type": "code",
   "execution_count": 86,
   "metadata": {},
   "outputs": [],
   "source": [
    "prod_interno_vector = prod_interno(vector_5, vector_6)"
   ]
  },
  {
   "cell_type": "code",
   "execution_count": 87,
   "metadata": {},
   "outputs": [
    {
     "name": "stdout",
     "output_type": "stream",
     "text": [
      "(4+2j)\n"
     ]
    }
   ],
   "source": [
    "print(prod_interno_vector)"
   ]
  },
  {
   "cell_type": "code",
   "execution_count": 48,
   "metadata": {},
   "outputs": [],
   "source": [
    "def norma_vector(v):\n",
    "    '''\n",
    "    Recibe un vector complejo v y retorna la raiz del producto\n",
    "    interno con él mismo\n",
    "    '''\n",
    "    return np.sqrt(prod_interno(v, v))"
   ]
  },
  {
   "cell_type": "code",
   "execution_count": 56,
   "metadata": {},
   "outputs": [],
   "source": [
    "vector_12 = np.array([[2,6+5,7.j],\n",
    "                    [5,6-8,2.j]])"
   ]
  },
  {
   "cell_type": "code",
   "execution_count": 57,
   "metadata": {},
   "outputs": [
    {
     "data": {
      "text/plain": [
       "(5.385164807134504+0j)"
      ]
     },
     "execution_count": 57,
     "metadata": {},
     "output_type": "execute_result"
    }
   ],
   "source": [
    "norma_vector(vector_12)"
   ]
  },
  {
   "cell_type": "code",
   "execution_count": 37,
   "metadata": {},
   "outputs": [],
   "source": [
    "vector_7 = np.array([[1/np.sqrt(2)],\n",
    "                    [-1/np.sqrt(2)]])"
   ]
  },
  {
   "cell_type": "code",
   "execution_count": 35,
   "metadata": {},
   "outputs": [
    {
     "name": "stdout",
     "output_type": "stream",
     "text": [
      "[[0.70710678 0.70710678]]\n"
     ]
    }
   ],
   "source": [
    "resp = daga(vector_7)\n",
    "print(resp)"
   ]
  },
  {
   "cell_type": "code",
   "execution_count": 38,
   "metadata": {},
   "outputs": [
    {
     "name": "stdout",
     "output_type": "stream",
     "text": [
      "0.9999999999999999\n"
     ]
    }
   ],
   "source": [
    "resp_1 = norma_vector(vector_7)\n",
    "print(resp_1)"
   ]
  },
  {
   "cell_type": "code",
   "execution_count": 39,
   "metadata": {},
   "outputs": [],
   "source": [
    "vector_8 = np.array([[1/np.sqrt(2)],\n",
    "                    [1/np.sqrt(2)]])"
   ]
  },
  {
   "cell_type": "code",
   "execution_count": 41,
   "metadata": {},
   "outputs": [
    {
     "name": "stdout",
     "output_type": "stream",
     "text": [
      "0.0\n"
     ]
    }
   ],
   "source": [
    "resp_2 = prod_interno(vector_8,vector_7)\n",
    "print(resp_2)"
   ]
  },
  {
   "cell_type": "code",
   "execution_count": 43,
   "metadata": {},
   "outputs": [],
   "source": [
    "vector_9 = np.array([[-1],\n",
    "                    [2],\n",
    "                    [5]])"
   ]
  },
  {
   "cell_type": "code",
   "execution_count": 45,
   "metadata": {},
   "outputs": [],
   "source": [
    "vector_10 = np.array([[4],\n",
    "                     [-3]])"
   ]
  },
  {
   "cell_type": "code",
   "execution_count": 46,
   "metadata": {},
   "outputs": [
    {
     "name": "stdout",
     "output_type": "stream",
     "text": [
      "[[ -4]\n",
      " [  3]\n",
      " [  8]\n",
      " [ -6]\n",
      " [ 20]\n",
      " [-15]]\n"
     ]
    }
   ],
   "source": [
    "prod_tensor = np.kron(vector_9,vector_10)\n",
    "print(prod_tensor)"
   ]
  },
  {
   "cell_type": "code",
   "execution_count": 60,
   "metadata": {},
   "outputs": [],
   "source": [
    "vector_123 = np.array([[-1],\n",
    "                    [2 + 1.j]])"
   ]
  },
  {
   "cell_type": "code",
   "execution_count": 61,
   "metadata": {},
   "outputs": [],
   "source": [
    "vector_20 = np.array([[4],\n",
    "                     [-3],\n",
    "                     [2-1.j]])"
   ]
  },
  {
   "cell_type": "code",
   "execution_count": 62,
   "metadata": {},
   "outputs": [
    {
     "name": "stdout",
     "output_type": "stream",
     "text": [
      "[[-4.+0.j]\n",
      " [ 3.-0.j]\n",
      " [-2.+1.j]\n",
      " [ 8.+4.j]\n",
      " [-6.-3.j]\n",
      " [ 5.+0.j]]\n"
     ]
    }
   ],
   "source": [
    "prod_tensor_p = np.kron(vector_123,vector_20)\n",
    "print(prod_tensor_p)"
   ]
  },
  {
   "cell_type": "code",
   "execution_count": 72,
   "metadata": {},
   "outputs": [
    {
     "name": "stdout",
     "output_type": "stream",
     "text": [
      "3.605551275463989\n"
     ]
    }
   ],
   "source": [
    "c = np.array([[2- 1.j],\n",
    "             [2+2.j]])\n",
    "norma_vector_1 = np.linalg.norm(c)\n",
    "print(norma_vector_1)"
   ]
  },
  {
   "cell_type": "code",
   "execution_count": 74,
   "metadata": {},
   "outputs": [
    {
     "name": "stdout",
     "output_type": "stream",
     "text": [
      "[[1.+1.j 1.+0.j]\n",
      " [1.+1.j 2.+0.j]]\n"
     ]
    }
   ],
   "source": [
    "vector_a = np.array([[1.j+1,1],\n",
    "                    [1+1.j,2]])\n",
    "print(vector_a)"
   ]
  },
  {
   "cell_type": "code",
   "execution_count": 75,
   "metadata": {},
   "outputs": [
    {
     "name": "stdout",
     "output_type": "stream",
     "text": [
      "[1.+0.j 0.+1.j]\n"
     ]
    }
   ],
   "source": [
    "vector_b = np.array([1, 1.j])\n",
    "print(vector_b)"
   ]
  },
  {
   "cell_type": "code",
   "execution_count": 76,
   "metadata": {},
   "outputs": [
    {
     "name": "stdout",
     "output_type": "stream",
     "text": [
      "[[ 1.+1.j -1.+1.j  1.+0.j  0.+1.j]\n",
      " [ 1.+1.j -1.+1.j  2.+0.j  0.+2.j]]\n"
     ]
    }
   ],
   "source": [
    "resultado = np.kron(vector_a,vector_b)\n",
    "print(resultado)"
   ]
  },
  {
   "cell_type": "code",
   "execution_count": 77,
   "metadata": {},
   "outputs": [
    {
     "name": "stdout",
     "output_type": "stream",
     "text": [
      "(-1+1j)\n"
     ]
    }
   ],
   "source": [
    "print(resultado[1][1])"
   ]
  },
  {
   "cell_type": "code",
   "execution_count": 79,
   "metadata": {},
   "outputs": [
    {
     "name": "stdout",
     "output_type": "stream",
     "text": [
      "[[ 1.-0.j -0.+1.j]\n",
      " [ 1.-1.j  0.-2.j]]\n"
     ]
    }
   ],
   "source": [
    "vector_40 = np.array([[1 , 1+ 1.j],\n",
    "                     [-1.j, 2.j]])\n",
    "result_vec40 = daga(vector_40)\n",
    "print(result_vec40)"
   ]
  },
  {
   "cell_type": "code",
   "execution_count": 82,
   "metadata": {},
   "outputs": [
    {
     "name": "stdout",
     "output_type": "stream",
     "text": [
      "[[0.+3.j 1.+2.j]\n",
      " [3.-1.j 0.+0.j]]\n"
     ]
    }
   ],
   "source": [
    "vector_41 = np.array([[1.j , -1+ 1.j],\n",
    "                     [2, 1]])\n",
    "result_41 = np.matmul(vector_41,result_vec40)\n",
    "print(result_41)"
   ]
  },
  {
   "cell_type": "code",
   "execution_count": 83,
   "metadata": {},
   "outputs": [
    {
     "name": "stdout",
     "output_type": "stream",
     "text": [
      "(3-1j)\n"
     ]
    }
   ],
   "source": [
    "print(result_41[1][0])"
   ]
  },
  {
   "cell_type": "code",
   "execution_count": 92,
   "metadata": {},
   "outputs": [
    {
     "name": "stdout",
     "output_type": "stream",
     "text": [
      "[[ 0.-0.70710678j  0.-0.70710678j]\n",
      " [-0.+0.70710678j  0.-0.70710678j]]\n"
     ]
    }
   ],
   "source": [
    "vector_V = np.array([[1.j/np.sqrt(2) , -1.j/np.sqrt(2)],\n",
    "                     [1.j/np.sqrt(2), 1.j/np.sqrt(2)]])\n",
    "result_vec40 = daga(vector_V)\n",
    "print(result_vec40)"
   ]
  },
  {
   "cell_type": "code",
   "execution_count": null,
   "metadata": {},
   "outputs": [],
   "source": []
  }
 ],
 "metadata": {
  "kernelspec": {
   "display_name": "Python 3",
   "language": "python",
   "name": "python3"
  },
  "language_info": {
   "codemirror_mode": {
    "name": "ipython",
    "version": 3
   },
   "file_extension": ".py",
   "mimetype": "text/x-python",
   "name": "python",
   "nbconvert_exporter": "python",
   "pygments_lexer": "ipython3",
   "version": "3.8.3"
  }
 },
 "nbformat": 4,
 "nbformat_minor": 4
}
