{
 "cells": [
  {
   "cell_type": "markdown",
   "metadata": {},
   "source": [
    "## SWAP (intercambio)"
   ]
  },
  {
   "cell_type": "code",
   "execution_count": 1,
   "metadata": {},
   "outputs": [],
   "source": [
    "# Importaciones\n",
    "from qiskit import QuantumCircuit #Clase para declarar circuitos\n",
    "from qiskit import execute #Funcion para ejecutar circuitos cuanticos de manera simulada \n",
    "                            #o en computador cuantico real\n",
    "\n",
    "from qiskit import Aer #Módulo donde podemos acceder al simulador qasm\n",
    "from qiskit.visualization import plot_histogram, plot_bloch_vector # Función para graficar el output como diagrama de barras\n",
    "%matplotlib inline\n",
    "from math import sqrt, pi\n",
    "import numpy as np\n",
    "# Esta último llamado me permite usar la librería mat´plotlib en el Notebook"
   ]
  },
  {
   "cell_type": "code",
   "execution_count": 3,
   "metadata": {},
   "outputs": [
    {
     "data": {
      "text/html": [
       "<pre style=\"word-wrap: normal;white-space: pre;background: #fff0;line-height: 1.1;font-family: &quot;Courier New&quot;,Courier,monospace\">           ┌─────────────────┐               ┌─┐   \n",
       "q_0: ──────┤ initialize(0,1) ├───────X──X────┤M├───\n",
       "     ┌─────┴─────────────────┴─────┐ │  │ ┌─┐└╥┘   \n",
       "q_1: ┤ initialize(0.70711,0.70711) ├─X──┼─┤M├─╫────\n",
       "     └─────────────────────────────┘    │ └╥┘ ║ ┌─┐\n",
       "q_2: ───────────────────────────────────X──╫──╫─┤M├\n",
       "                                           ║  ║ └╥┘\n",
       "c_0: ══════════════════════════════════════╬══╩══╬═\n",
       "                                           ║     ║ \n",
       "c_1: ══════════════════════════════════════╩═════╬═\n",
       "                                                 ║ \n",
       "c_2: ════════════════════════════════════════════╩═\n",
       "                                                   </pre>"
      ],
      "text/plain": [
       "           ┌─────────────────┐               ┌─┐   \n",
       "q_0: ──────┤ initialize(0,1) ├───────X──X────┤M├───\n",
       "     ┌─────┴─────────────────┴─────┐ │  │ ┌─┐└╥┘   \n",
       "q_1: ┤ initialize(0.70711,0.70711) ├─X──┼─┤M├─╫────\n",
       "     └─────────────────────────────┘    │ └╥┘ ║ ┌─┐\n",
       "q_2: ───────────────────────────────────X──╫──╫─┤M├\n",
       "                                           ║  ║ └╥┘\n",
       "c_0: ══════════════════════════════════════╬══╩══╬═\n",
       "                                           ║     ║ \n",
       "c_1: ══════════════════════════════════════╩═════╬═\n",
       "                                                 ║ \n",
       "c_2: ════════════════════════════════════════════╩═\n",
       "                                                   "
      ]
     },
     "execution_count": 3,
     "metadata": {},
     "output_type": "execute_result"
    }
   ],
   "source": [
    "c = QuantumCircuit(3, 3)\n",
    "estado_0 = [0,1]\n",
    "estado_1 = [1/np.sqrt(2), 1/np.sqrt(2)] \n",
    "c.initialize(estado_0, 0)\n",
    "c.initialize(estado_1, 1)\n",
    "c.swap(0, 1)\n",
    "c.swap(0, 2)\n",
    "c.measure(0, 0)\n",
    "c.measure(1, 1)\n",
    "c.measure(2, 2)\n",
    "c.draw()"
   ]
  },
  {
   "cell_type": "code",
   "execution_count": 4,
   "metadata": {},
   "outputs": [
    {
     "data": {
      "image/png": "[encoded data removed]",
      "text/plain": [
       "<Figure size 504x360 with 1 Axes>"
      ]
     },
     "execution_count": 4,
     "metadata": {},
     "output_type": "execute_result"
    }
   ],
   "source": [
    "simulador = Aer.get_backend('qasm_simulator')\n",
    "conteos = execute(c, backend = simulador, shots=1000).result().get_counts()\n",
    "plot_histogram(conteos)"
   ]
  },
  {
   "cell_type": "markdown",
   "metadata": {},
   "source": [
    "## Test del intercambio (para medir experimentalmente la Fidelidad)"
   ]
  },
  {
   "cell_type": "code",
   "execution_count": 5,
   "metadata": {},
   "outputs": [
    {
     "data": {
      "text/plain": [
       "<qiskit.circuit.instructionset.InstructionSet at 0x17190a96f10>"
      ]
     },
     "execution_count": 5,
     "metadata": {},
     "output_type": "execute_result"
    }
   ],
   "source": [
    "cq_mas = QuantumCircuit(1, 1)\n",
    "cq_menos = QuantumCircuit(1, 1)\n",
    "cq_mas.h(0)\n",
    "cq_mas.measure(0, 0)\n",
    "cq_menos.x(0)\n",
    "cq_menos.h(0)\n",
    "cq_menos.measure(0, 0)"
   ]
  },
  {
   "cell_type": "code",
   "execution_count": 6,
   "metadata": {},
   "outputs": [
    {
     "data": {
      "text/html": [
       "<pre style=\"word-wrap: normal;white-space: pre;background: #fff0;line-height: 1.1;font-family: &quot;Courier New&quot;,Courier,monospace\">     ┌───┐┌─┐\n",
       "q_0: ┤ H ├┤M├\n",
       "     └───┘└╥┘\n",
       "c_0: ══════╩═\n",
       "             </pre>"
      ],
      "text/plain": [
       "     ┌───┐┌─┐\n",
       "q_0: ┤ H ├┤M├\n",
       "     └───┘└╥┘\n",
       "c_0: ══════╩═\n",
       "             "
      ]
     },
     "execution_count": 6,
     "metadata": {},
     "output_type": "execute_result"
    }
   ],
   "source": [
    "cq_mas.draw()"
   ]
  },
  {
   "cell_type": "code",
   "execution_count": 7,
   "metadata": {},
   "outputs": [
    {
     "data": {
      "text/html": [
       "<pre style=\"word-wrap: normal;white-space: pre;background: #fff0;line-height: 1.1;font-family: &quot;Courier New&quot;,Courier,monospace\">     ┌───┐┌───┐┌─┐\n",
       "q_0: ┤ X ├┤ H ├┤M├\n",
       "     └───┘└───┘└╥┘\n",
       "c_0: ═══════════╩═\n",
       "                  </pre>"
      ],
      "text/plain": [
       "     ┌───┐┌───┐┌─┐\n",
       "q_0: ┤ X ├┤ H ├┤M├\n",
       "     └───┘└───┘└╥┘\n",
       "c_0: ═══════════╩═\n",
       "                  "
      ]
     },
     "execution_count": 7,
     "metadata": {},
     "output_type": "execute_result"
    }
   ],
   "source": [
    "cq_menos.draw()"
   ]
  },
  {
   "cell_type": "code",
   "execution_count": 8,
   "metadata": {},
   "outputs": [],
   "source": [
    "simulador = Aer.get_backend('qasm_simulator')\n",
    "conteos_mas = execute(cq_mas, backend = simulador, shots=1000).result().get_counts()\n",
    "conteos_menos = execute(cq_menos, backend = simulador, shots=1000).result().get_counts()"
   ]
  },
  {
   "cell_type": "code",
   "execution_count": 9,
   "metadata": {},
   "outputs": [
    {
     "data": {
      "image/png": "[encoded data removed]",
      "text/plain": [
       "<Figure size 504x360 with 1 Axes>"
      ]
     },
     "execution_count": 9,
     "metadata": {},
     "output_type": "execute_result"
    }
   ],
   "source": [
    "plot_histogram(conteos_mas)"
   ]
  },
  {
   "cell_type": "code",
   "execution_count": 10,
   "metadata": {},
   "outputs": [
    {
     "data": {
      "image/png": "[encoded data removed]",
      "text/plain": [
       "<Figure size 504x360 with 1 Axes>"
      ]
     },
     "execution_count": 10,
     "metadata": {},
     "output_type": "execute_result"
    }
   ],
   "source": [
    "plot_histogram(conteos_menos)"
   ]
  },
  {
   "cell_type": "code",
   "execution_count": 11,
   "metadata": {},
   "outputs": [],
   "source": [
    "def fidelidad(v1, v2):\n",
    "    '''\n",
    "    Esta funcion recibe 2 vectores complejos y retorna el cuadrado del modulo de su producto interno\n",
    "    '''\n",
    "    return np.abs(np.vdot(v1, v2))**2"
   ]
  },
  {
   "cell_type": "code",
   "execution_count": 12,
   "metadata": {},
   "outputs": [
    {
     "data": {
      "text/plain": [
       "0.9999999999999996"
      ]
     },
     "execution_count": 12,
     "metadata": {},
     "output_type": "execute_result"
    }
   ],
   "source": [
    "v_mas = np.array([[1/np.sqrt(2)],[1/np.sqrt(2)]])\n",
    "v_menos = np.array([[1/np.sqrt(2)],[-1/np.sqrt(2)]])\n",
    "fidelidad(v_mas, v_mas)"
   ]
  },
  {
   "cell_type": "code",
   "execution_count": 18,
   "metadata": {},
   "outputs": [
    {
     "data": {
      "text/html": [
       "<pre style=\"word-wrap: normal;white-space: pre;background: #fff0;line-height: 1.1;font-family: &quot;Courier New&quot;,Courier,monospace\">                            ┌───┐                        ░                 \n",
       "q_0: ───────────────────────┤ H ├────────────────────────░───────X─────────\n",
       "     ┌──────────────────────┴───┴──────────────────────┐ ░       │         \n",
       "q_1: ┤ initialize(0.53666+-0.35777j,-0.26833+0.71554j) ├─░───────X─────────\n",
       "     └─────────────────────────────────────────────────┘ ░ ┌───┐ │ ┌───┐┌─┐\n",
       "q_2: ────────────────────────────────────────────────────░─┤ H ├─■─┤ H ├┤M├\n",
       "                                                         ░ └───┘   └───┘└╥┘\n",
       "c_0: ════════════════════════════════════════════════════════════════════╩═\n",
       "                                                                           </pre>"
      ],
      "text/plain": [
       "                            ┌───┐                        ░                 \n",
       "q_0: ───────────────────────┤ H ├────────────────────────░───────X─────────\n",
       "     ┌──────────────────────┴───┴──────────────────────┐ ░       │         \n",
       "q_1: ┤ initialize(0.53666+-0.35777j,-0.26833+0.71554j) ├─░───────X─────────\n",
       "     └─────────────────────────────────────────────────┘ ░ ┌───┐ │ ┌───┐┌─┐\n",
       "q_2: ────────────────────────────────────────────────────░─┤ H ├─■─┤ H ├┤M├\n",
       "                                                         ░ └───┘   └───┘└╥┘\n",
       "c_0: ════════════════════════════════════════════════════════════════════╩═\n",
       "                                                                           "
      ]
     },
     "execution_count": 18,
     "metadata": {},
     "output_type": "execute_result"
    }
   ],
   "source": [
    "cqtest = QuantumCircuit(3, 1)\n",
    "cqtest.h(0)\n",
    "cqtest.initialize([ev_norm[0][0], ev_norm[1][0]],1)\n",
    "cqtest.barrier()\n",
    "cqtest.h(2)\n",
    "cqtest.cswap(2, 1, 0)\n",
    "cqtest.h(2)\n",
    "cqtest.measure(2, 0)\n",
    "cqtest.draw()"
   ]
  },
  {
   "cell_type": "code",
   "execution_count": 14,
   "metadata": {},
   "outputs": [
    {
     "data": {
      "image/png": "[encoded data removed]",
      "text/plain": [
       "<Figure size 504x360 with 1 Axes>"
      ]
     },
     "execution_count": 14,
     "metadata": {},
     "output_type": "execute_result"
    }
   ],
   "source": [
    "conteos_test = execute(cqtest, backend = simulador, shots=1000).result().get_counts()\n",
    "plot_histogram(conteos_test)"
   ]
  },
  {
   "cell_type": "code",
   "execution_count": 15,
   "metadata": {},
   "outputs": [],
   "source": [
    "estado_variable = np.array([[3 - 2j],[-1.5 + 4j]])\n",
    "norma = np.linalg.norm(estado_variable)\n",
    "ev_norm = 1/norma * estado_variable"
   ]
  },
  {
   "cell_type": "code",
   "execution_count": 16,
   "metadata": {},
   "outputs": [
    {
     "data": {
      "text/plain": [
       "array([[ 0.53665631-0.35777088j],\n",
       "       [-0.26832816+0.71554175j]])"
      ]
     },
     "execution_count": 16,
     "metadata": {},
     "output_type": "execute_result"
    }
   ],
   "source": [
    "ev_norm"
   ]
  },
  {
   "cell_type": "code",
   "execution_count": 17,
   "metadata": {},
   "outputs": [
    {
     "data": {
      "text/plain": [
       "0.09999999999999996"
      ]
     },
     "execution_count": 17,
     "metadata": {},
     "output_type": "execute_result"
    }
   ],
   "source": [
    "fidelidad(v_mas, ev_norm)"
   ]
  },
  {
   "cell_type": "code",
   "execution_count": null,
   "metadata": {},
   "outputs": [],
   "source": []
  }
 ],
 "metadata": {
  "kernelspec": {
   "display_name": "Python 3",
   "language": "python",
   "name": "python3"
  },
  "language_info": {
   "codemirror_mode": {
    "name": "ipython",
    "version": 3
   },
   "file_extension": ".py",
   "mimetype": "text/x-python",
   "name": "python",
   "nbconvert_exporter": "python",
   "pygments_lexer": "ipython3",
   "version": "3.8.3"
  }
 },
 "nbformat": 4,
 "nbformat_minor": 4
}
