{
 "cells": [
  {
   "cell_type": "markdown",
   "metadata": {},
   "source": [
    "# Elementos del álgebra lineal en la Computación cuántica\n",
    "\n",
    "Curso CNYT 2020-2\n",
    "\n",
    "Sergio Tello"
   ]
  },
  {
   "cell_type": "code",
   "execution_count": 2,
   "metadata": {},
   "outputs": [],
   "source": [
    "import numpy as np"
   ]
  },
  {
   "cell_type": "markdown",
   "metadata": {},
   "source": [
    "## 1. Vectores de componentes complejas"
   ]
  },
  {
   "cell_type": "markdown",
   "metadata": {},
   "source": [
    "Declarando un vector:"
   ]
  },
  {
   "cell_type": "code",
   "execution_count": 3,
   "metadata": {},
   "outputs": [],
   "source": [
    "vector_1 = np.array([ [2 - 3j ],\n",
    "                      [-7 + 5j]  ])"
   ]
  },
  {
   "cell_type": "code",
   "execution_count": 4,
   "metadata": {},
   "outputs": [
    {
     "name": "stdout",
     "output_type": "stream",
     "text": [
      "[[ 2.-3.j]\n",
      " [-7.+5.j]]\n"
     ]
    }
   ],
   "source": [
    "print(vector_1)"
   ]
  },
  {
   "cell_type": "markdown",
   "metadata": {},
   "source": [
    "Accediendo a una componente particular:"
   ]
  },
  {
   "cell_type": "code",
   "execution_count": 6,
   "metadata": {},
   "outputs": [
    {
     "data": {
      "text/plain": [
       "(2-3j)"
      ]
     },
     "execution_count": 6,
     "metadata": {},
     "output_type": "execute_result"
    }
   ],
   "source": [
    "vector_1[0][0]"
   ]
  },
  {
   "cell_type": "code",
   "execution_count": 7,
   "metadata": {},
   "outputs": [],
   "source": [
    "vector_2 = np.array([ [-4+6j],\n",
    "                      [1-14j] ])"
   ]
  },
  {
   "cell_type": "markdown",
   "metadata": {},
   "source": [
    "Suma de vectores:"
   ]
  },
  {
   "cell_type": "code",
   "execution_count": 8,
   "metadata": {},
   "outputs": [
    {
     "name": "stdout",
     "output_type": "stream",
     "text": [
      "[[-2.+3.j]\n",
      " [-6.-9.j]]\n"
     ]
    }
   ],
   "source": [
    "suma_vectores = vector_1 + vector_2\n",
    "print(suma_vectores)"
   ]
  },
  {
   "cell_type": "markdown",
   "metadata": {},
   "source": [
    "Multiplicar un escalar (complejo) por un vector:"
   ]
  },
  {
   "cell_type": "code",
   "execution_count": 10,
   "metadata": {},
   "outputs": [
    {
     "name": "stdout",
     "output_type": "stream",
     "text": [
      "[[ 13. +0.j]\n",
      " [-15.+36.j]]\n"
     ]
    }
   ],
   "source": [
    "vector_3 = (-2 - 3j) * suma_vectores\n",
    "print(vector_3)"
   ]
  },
  {
   "cell_type": "markdown",
   "metadata": {},
   "source": [
    "Multiplicación de complejos:"
   ]
  },
  {
   "cell_type": "code",
   "execution_count": 11,
   "metadata": {},
   "outputs": [
    {
     "data": {
      "text/plain": [
       "(-15+36j)"
      ]
     },
     "execution_count": 11,
     "metadata": {},
     "output_type": "execute_result"
    }
   ],
   "source": [
    "(-2 - 3j)*(-6 - 9j)"
   ]
  },
  {
   "cell_type": "markdown",
   "metadata": {},
   "source": [
    "> Operación de multiplicación de complejos"
   ]
  },
  {
   "cell_type": "code",
   "execution_count": 21,
   "metadata": {},
   "outputs": [
    {
     "data": {
      "text/plain": [
       "(-29-11j)"
      ]
     },
     "execution_count": 21,
     "metadata": {},
     "output_type": "execute_result"
    }
   ],
   "source": [
    "(2 + 3j) * (-7 + 5j)"
   ]
  },
  {
   "cell_type": "markdown",
   "metadata": {},
   "source": [
    "## 2. Matrices"
   ]
  },
  {
   "cell_type": "markdown",
   "metadata": {},
   "source": [
    "$$ A = \\begin{bmatrix} 4 - 7i & -1 \\\\ 3 + 2i & 6 \\end{bmatrix}$$"
   ]
  },
  {
   "cell_type": "code",
   "execution_count": 12,
   "metadata": {},
   "outputs": [],
   "source": [
    "matriz_ejemplo = np.array([ [4 - 7j, -1],\n",
    "                            [3 + 2j, 6 ]])"
   ]
  },
  {
   "cell_type": "code",
   "execution_count": 13,
   "metadata": {},
   "outputs": [
    {
     "name": "stdout",
     "output_type": "stream",
     "text": [
      "[[ 4.-7.j -1.+0.j]\n",
      " [ 3.+2.j  6.+0.j]]\n"
     ]
    }
   ],
   "source": [
    "print(matriz_ejemplo)"
   ]
  },
  {
   "cell_type": "code",
   "execution_count": 14,
   "metadata": {},
   "outputs": [
    {
     "data": {
      "text/plain": [
       "(3+2j)"
      ]
     },
     "execution_count": 14,
     "metadata": {},
     "output_type": "execute_result"
    }
   ],
   "source": [
    "matriz_ejemplo[1][0]"
   ]
  },
  {
   "cell_type": "code",
   "execution_count": 15,
   "metadata": {},
   "outputs": [
    {
     "data": {
      "text/plain": [
       "(-1+0j)"
      ]
     },
     "execution_count": 15,
     "metadata": {},
     "output_type": "execute_result"
    }
   ],
   "source": [
    "matriz_ejemplo[0][1]"
   ]
  },
  {
   "cell_type": "markdown",
   "metadata": {},
   "source": [
    "Vamos a escribir la matriz correspondiente a la compuerta $U_2$:\n",
    "\n",
    "$$U_2(\\phi, \\lambda) = \\frac{1}{\\sqrt{2}}\\begin{bmatrix} 1 & -e^{i\\lambda} \\\\ e^{i\\phi} & e^{i\\lambda + i\\phi}  \\end{bmatrix} $$"
   ]
  },
  {
   "cell_type": "markdown",
   "metadata": {},
   "source": [
    "Vamos a declarar la matriz $U_2(\\pi, \\pi/2)$:"
   ]
  },
  {
   "cell_type": "code",
   "execution_count": 16,
   "metadata": {},
   "outputs": [],
   "source": [
    "matriz_u2 = (1/np.sqrt(2)) * np.array([ [1                               , -np.exp(1j * np.pi/2)              ],\n",
    "                                        [np.cos(np.pi) + 1j*np.sin(np.pi), np.exp(1j * np.pi/2 + 1j * np.pi)] ])"
   ]
  },
  {
   "cell_type": "code",
   "execution_count": 18,
   "metadata": {},
   "outputs": [],
   "source": [
    "# Se parece a U_2(pi, pi/2) pero sin el escalar\n",
    "matriz_1 = np.array([ [1                               , -np.exp(1j * np.pi/2)],\n",
    "                      [np.cos(np.pi) + 1j*np.sin(np.pi), np.exp(1j * np.pi/2 + 1j * np.pi)] ])"
   ]
  },
  {
   "cell_type": "code",
   "execution_count": 24,
   "metadata": {},
   "outputs": [
    {
     "name": "stdout",
     "output_type": "stream",
     "text": [
      "[[ 1.0000000e+00+0.0000000e+00j -6.1232340e-17-1.0000000e+00j]\n",
      " [-1.0000000e+00+1.2246468e-16j -1.8369702e-16-1.0000000e+00j]]\n"
     ]
    }
   ],
   "source": [
    "print(matriz_1)"
   ]
  },
  {
   "cell_type": "markdown",
   "metadata": {},
   "source": [
    "$$A =  \\begin{bmatrix} 1 & -i \\\\ -1 & -i  \\end{bmatrix} $$"
   ]
  },
  {
   "cell_type": "markdown",
   "metadata": {},
   "source": [
    "La matriz para la compuerta X es:\n",
    "\n",
    "$$ X = \\begin{bmatrix} 0 & 1 \\\\ 1 & 0 \\end{bmatrix} $$"
   ]
  },
  {
   "cell_type": "code",
   "execution_count": 19,
   "metadata": {},
   "outputs": [],
   "source": [
    "matriz_x = np.array([ [0, 1],\n",
    "                      [1, 0] ])"
   ]
  },
  {
   "cell_type": "code",
   "execution_count": 20,
   "metadata": {},
   "outputs": [
    {
     "name": "stdout",
     "output_type": "stream",
     "text": [
      "[[ 1.0000000e+00+0.0000000e+00j  1.0000000e+00-1.0000000e+00j]\n",
      " [ 0.0000000e+00+1.2246468e-16j -1.8369702e-16-1.0000000e+00j]]\n"
     ]
    }
   ],
   "source": [
    "suma_matrices = matriz_1 + matriz_x\n",
    "print(suma_matrices)"
   ]
  },
  {
   "cell_type": "markdown",
   "metadata": {},
   "source": [
    "$$ A + X = \\begin{bmatrix} 1 & 1-i \\\\ 0 & -i \\end{bmatrix}$$"
   ]
  },
  {
   "cell_type": "markdown",
   "metadata": {},
   "source": [
    "## 3. Conjugada, transpuesta y daga"
   ]
  },
  {
   "cell_type": "code",
   "execution_count": 21,
   "metadata": {},
   "outputs": [
    {
     "name": "stdout",
     "output_type": "stream",
     "text": [
      "[[ 2.-3.j]\n",
      " [-7.+5.j]]\n",
      "\n",
      "\n",
      "[[ 2.+3.j]\n",
      " [-7.-5.j]]\n"
     ]
    }
   ],
   "source": [
    "vector_1_conjugado = np.conj(vector_1)\n",
    "print(vector_1)\n",
    "print('\\n')\n",
    "print(vector_1_conjugado)"
   ]
  },
  {
   "cell_type": "code",
   "execution_count": 31,
   "metadata": {},
   "outputs": [
    {
     "name": "stdout",
     "output_type": "stream",
     "text": [
      "[[ 2.-3.j]\n",
      " [-7.+5.j]]\n",
      "\n",
      "\n",
      "[[ 2.-3.j -7.+5.j]]\n"
     ]
    }
   ],
   "source": [
    "vector_1_transpuesto = np.transpose(vector_1)\n",
    "print(vector_1)\n",
    "print('\\n')\n",
    "print(vector_1_transpuesto)"
   ]
  },
  {
   "cell_type": "code",
   "execution_count": 32,
   "metadata": {},
   "outputs": [],
   "source": [
    "def daga(arreglo):\n",
    "    '''\n",
    "    La función daga recibe un arreglo de numpy (vector o matriz) \n",
    "    y retorna su transpuesta conjugada o daga. \n",
    "    '''\n",
    "    arreglo_conjugado = np.conj(arreglo)\n",
    "    arreglo_conj_transp = np.transpose(arreglo_conjugado)\n",
    "    \n",
    "    return arreglo_conj_transp"
   ]
  },
  {
   "cell_type": "markdown",
   "metadata": {},
   "source": [
    "Daga de una matriz:"
   ]
  },
  {
   "cell_type": "code",
   "execution_count": 34,
   "metadata": {},
   "outputs": [
    {
     "name": "stdout",
     "output_type": "stream",
     "text": [
      "[[ 1.0000000e+00-0.0000000e+00j  0.0000000e+00-1.2246468e-16j]\n",
      " [ 1.0000000e+00+1.0000000e+00j -1.8369702e-16+1.0000000e+00j]]\n"
     ]
    }
   ],
   "source": [
    "suma_matrices_daga = daga(suma_matrices)\n",
    "print(suma_matrices_daga)"
   ]
  },
  {
   "cell_type": "markdown",
   "metadata": {},
   "source": [
    "$$ A^{\\dagger} $$"
   ]
  },
  {
   "cell_type": "markdown",
   "metadata": {},
   "source": [
    "## Multiplicación de matrices por matrices y matrices por vectores (acción)"
   ]
  },
  {
   "cell_type": "markdown",
   "metadata": {},
   "source": [
    "Vamos a multiplicar $U_2(\\pi, \\pi/2) \\star X$:"
   ]
  },
  {
   "cell_type": "code",
   "execution_count": 38,
   "metadata": {},
   "outputs": [],
   "source": [
    "producto_u2_con_x = np.matmul(matriz_u2, matriz_x)"
   ]
  },
  {
   "cell_type": "code",
   "execution_count": 39,
   "metadata": {},
   "outputs": [
    {
     "name": "stdout",
     "output_type": "stream",
     "text": [
      "[[-4.32978028e-17-7.07106781e-01j  7.07106781e-01+0.00000000e+00j]\n",
      " [-1.29893408e-16-7.07106781e-01j -7.07106781e-01+8.65956056e-17j]]\n"
     ]
    }
   ],
   "source": [
    "print(producto_u2_con_x)"
   ]
  },
  {
   "cell_type": "markdown",
   "metadata": {},
   "source": [
    "$$U_2(\\pi, \\pi/2) \\star X = \\begin{bmatrix} -1/\\sqrt{2}i & 1/\\sqrt{2} \\\\ \n",
    "-1/\\sqrt{2}i & -1/\\sqrt{2}\n",
    "\\end{bmatrix}$$"
   ]
  },
  {
   "cell_type": "markdown",
   "metadata": {},
   "source": [
    "$$U_2(\\pi, \\pi/2) \\star X = \\frac{1}{\\sqrt{2}} \\begin{bmatrix} -i & 1 \\\\ \n",
    "-i & -1\n",
    "\\end{bmatrix}$$"
   ]
  },
  {
   "cell_type": "code",
   "execution_count": 40,
   "metadata": {},
   "outputs": [
    {
     "data": {
      "text/plain": [
       "0.7071067811865475"
      ]
     },
     "execution_count": 40,
     "metadata": {},
     "output_type": "execute_result"
    }
   ],
   "source": [
    "1/np.sqrt(2)"
   ]
  },
  {
   "cell_type": "markdown",
   "metadata": {},
   "source": [
    "Matriz por vector:"
   ]
  },
  {
   "cell_type": "code",
   "execution_count": 42,
   "metadata": {},
   "outputs": [],
   "source": [
    "ket_0 = np.array([ [1],\n",
    "                   [0]])"
   ]
  },
  {
   "cell_type": "code",
   "execution_count": 43,
   "metadata": {},
   "outputs": [],
   "source": [
    "accion_de_prod_sobre_ket_0 = np.matmul(producto_u2_con_x, ket_0)"
   ]
  },
  {
   "cell_type": "code",
   "execution_count": 44,
   "metadata": {},
   "outputs": [
    {
     "name": "stdout",
     "output_type": "stream",
     "text": [
      "[[-4.32978028e-17-0.70710678j]\n",
      " [-1.29893408e-16-0.70710678j]]\n"
     ]
    }
   ],
   "source": [
    "print(accion_de_prod_sobre_ket_0)"
   ]
  },
  {
   "cell_type": "markdown",
   "metadata": {},
   "source": [
    "## Normalizar un vector"
   ]
  },
  {
   "cell_type": "code",
   "execution_count": 45,
   "metadata": {},
   "outputs": [
    {
     "name": "stdout",
     "output_type": "stream",
     "text": [
      "[[ 2.-3.j]\n",
      " [-7.+5.j]]\n"
     ]
    }
   ],
   "source": [
    "print(vector_1)"
   ]
  },
  {
   "cell_type": "code",
   "execution_count": 53,
   "metadata": {},
   "outputs": [],
   "source": [
    "norma_vector_1 = np.linalg.norm(vector_1)"
   ]
  },
  {
   "cell_type": "code",
   "execution_count": 54,
   "metadata": {},
   "outputs": [
    {
     "name": "stdout",
     "output_type": "stream",
     "text": [
      "9.327379053088816\n"
     ]
    }
   ],
   "source": [
    "print(norma_vector_1)"
   ]
  },
  {
   "cell_type": "code",
   "execution_count": 56,
   "metadata": {},
   "outputs": [
    {
     "name": "stdout",
     "output_type": "stream",
     "text": [
      "[[ 0.21442251-0.32163376j]\n",
      " [-0.75047877+0.53605627j]]\n"
     ]
    }
   ],
   "source": [
    "vector_1_normalizado = (1/norma_vector_1) * vector_1\n",
    "print(vector_1_normalizado)"
   ]
  },
  {
   "cell_type": "markdown",
   "metadata": {},
   "source": [
    "Probabilidad de medir el estado $|0\\rangle$:"
   ]
  },
  {
   "cell_type": "code",
   "execution_count": 58,
   "metadata": {},
   "outputs": [
    {
     "name": "stdout",
     "output_type": "stream",
     "text": [
      "(0.21442250696755896-0.32163376045133846j)\n"
     ]
    }
   ],
   "source": [
    "alpha = vector_1_normalizado[0][0]\n",
    "print(alpha)"
   ]
  },
  {
   "cell_type": "code",
   "execution_count": 60,
   "metadata": {},
   "outputs": [
    {
     "name": "stdout",
     "output_type": "stream",
     "text": [
      "0.1494252873563218\n"
     ]
    }
   ],
   "source": [
    "prob_0 = np.abs(alpha)**2\n",
    "print(prob_0)"
   ]
  },
  {
   "cell_type": "markdown",
   "metadata": {},
   "source": [
    "Probabilidad de medir el estado $|1\\rangle$:"
   ]
  },
  {
   "cell_type": "code",
   "execution_count": 61,
   "metadata": {},
   "outputs": [
    {
     "name": "stdout",
     "output_type": "stream",
     "text": [
      "(-0.7504787743864564+0.5360562674188974j)\n"
     ]
    }
   ],
   "source": [
    "beta = vector_1_normalizado[1][0]\n",
    "print(beta)"
   ]
  },
  {
   "cell_type": "code",
   "execution_count": 62,
   "metadata": {},
   "outputs": [
    {
     "name": "stdout",
     "output_type": "stream",
     "text": [
      "0.8505747126436782\n"
     ]
    }
   ],
   "source": [
    "prob_1 = np.abs(beta)**2\n",
    "print(prob_1)"
   ]
  },
  {
   "cell_type": "markdown",
   "metadata": {},
   "source": [
    "Comprobación $|\\alpha|^2 + |\\beta|^2 = 1$"
   ]
  },
  {
   "cell_type": "code",
   "execution_count": 63,
   "metadata": {},
   "outputs": [
    {
     "data": {
      "text/plain": [
       "1.0"
      ]
     },
     "execution_count": 63,
     "metadata": {},
     "output_type": "execute_result"
    }
   ],
   "source": [
    "prob_0 + prob_1"
   ]
  },
  {
   "cell_type": "markdown",
   "metadata": {},
   "source": [
    "Nota: Módulo de un número complejo:"
   ]
  },
  {
   "cell_type": "code",
   "execution_count": 48,
   "metadata": {},
   "outputs": [
    {
     "name": "stdout",
     "output_type": "stream",
     "text": [
      "5.830951894845301\n"
     ]
    }
   ],
   "source": [
    "c = 5 - 3j\n",
    "modulo_c = np.abs(c)\n",
    "print(modulo_c)"
   ]
  },
  {
   "cell_type": "code",
   "execution_count": 50,
   "metadata": {},
   "outputs": [
    {
     "data": {
      "text/plain": [
       "5.830951894845301"
      ]
     },
     "execution_count": 50,
     "metadata": {},
     "output_type": "execute_result"
    }
   ],
   "source": [
    "np.sqrt(5**2 + (-3)**2)"
   ]
  },
  {
   "cell_type": "markdown",
   "metadata": {},
   "source": [
    "## Producto interno y norma"
   ]
  },
  {
   "cell_type": "code",
   "execution_count": 76,
   "metadata": {},
   "outputs": [],
   "source": [
    "def prod_interno(v_1, v_2):\n",
    "    '''\n",
    "    Recibe dos vectores complejos y retorna su producto interno\n",
    "    '''\n",
    "    return np.matmul(daga(v_1), v_2)[0][0]"
   ]
  },
  {
   "cell_type": "code",
   "execution_count": 77,
   "metadata": {},
   "outputs": [],
   "source": [
    "def norma_vector(v):\n",
    "    '''\n",
    "    Recibe un vector complejo v y retorna la raiz del producto\n",
    "    interno con él mismo\n",
    "    '''\n",
    "    return np.sqrt(prod_interno(v, v))"
   ]
  },
  {
   "cell_type": "code",
   "execution_count": 78,
   "metadata": {},
   "outputs": [],
   "source": [
    "prod_interno_vector_1_vector_1 = prod_interno(vector_1, vector_1)"
   ]
  },
  {
   "cell_type": "code",
   "execution_count": 79,
   "metadata": {},
   "outputs": [
    {
     "name": "stdout",
     "output_type": "stream",
     "text": [
      "(87+0j)\n"
     ]
    }
   ],
   "source": [
    "print(prod_interno_vector_1_vector_1)"
   ]
  },
  {
   "cell_type": "code",
   "execution_count": 80,
   "metadata": {},
   "outputs": [
    {
     "data": {
      "text/plain": [
       "(9.327379053088816+0j)"
      ]
     },
     "execution_count": 80,
     "metadata": {},
     "output_type": "execute_result"
    }
   ],
   "source": [
    "norma_vector(vector_1)"
   ]
  },
  {
   "cell_type": "code",
   "execution_count": null,
   "metadata": {},
   "outputs": [],
   "source": []
  }
 ],
 "metadata": {
  "kernelspec": {
   "display_name": "Python 3",
   "language": "python",
   "name": "python3"
  },
  "language_info": {
   "codemirror_mode": {
    "name": "ipython",
    "version": 3
   },
   "file_extension": ".py",
   "mimetype": "text/x-python",
   "name": "python",
   "nbconvert_exporter": "python",
   "pygments_lexer": "ipython3",
   "version": "3.8.3"
  }
 },
 "nbformat": 4,
 "nbformat_minor": 2
}
