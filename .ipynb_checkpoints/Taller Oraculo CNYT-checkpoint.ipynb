{
 "cells": [
  {
   "cell_type": "markdown",
   "metadata": {},
   "source": [
    "# Taller oraculo CNYT\n",
    "## Oscar Nicolas Piñeros Campo"
   ]
  },
  {
   "cell_type": "code",
   "execution_count": 1,
   "metadata": {},
   "outputs": [],
   "source": [
    "from qiskit import QuantumCircuit,QuantumRegister,ClassicalRegister, Aer, execute\n",
    "import numpy as np\n",
    "from qiskit.visualization import plot_histogram"
   ]
  },
  {
   "cell_type": "code",
   "execution_count": 2,
   "metadata": {},
   "outputs": [
    {
     "data": {
      "image/png": "[encoded data removed]",
      "text/plain": [
       "<Figure size 298.592x264.88 with 1 Axes>"
      ]
     },
     "execution_count": 2,
     "metadata": {},
     "output_type": "execute_result"
    }
   ],
   "source": [
    "circuito1 = QuantumCircuit(4)\n",
    "circuito1.x(0)\n",
    "circuito1.cx(0,3)\n",
    "circuito1.draw(output = 'mpl')"
   ]
  },
  {
   "cell_type": "code",
   "execution_count": 3,
   "metadata": {},
   "outputs": [],
   "source": [
    "oraculo = circuito1.to_gate()\n",
    "oraculo.name = 'Oráculo'"
   ]
  },
  {
   "cell_type": "code",
   "execution_count": 4,
   "metadata": {},
   "outputs": [],
   "source": [
    "def decimal_a_binario(n, k):\n",
    "    '''\n",
    "    Esta función recibe una longitud n y un entero k. Retorna una lista de longitud n tal que cada elemento\n",
    "    es un dígito de la representación binaria de k.\n",
    "    '''\n",
    "    lista_binaria = []\n",
    "    \n",
    "    for i in reversed(range(n)):\n",
    "        bit = k // 2**i\n",
    "        k = k % 2**i\n",
    "        lista_binaria.append(bit)\n",
    "    \n",
    "    return lista_binaria"
   ]
  },
  {
   "cell_type": "code",
   "execution_count": 5,
   "metadata": {},
   "outputs": [],
   "source": [
    "def evaluar_oraculo_en_c(oraculo, c):\n",
    "    \n",
    "    tam = oraculo.num_qubits   # Tamaño o número de qubits que abarca el oráculo. No cambiar.\n",
    "    \n",
    "    ## Declaren el circuito cuántico con los parámetros adecuados:\n",
    "    circuito = QuantumCircuit(tam, 1)      \n",
    "    \n",
    "    ## Inicialización\n",
    "    ## Usen este ciclo for y un condicional if dentro del for para inicializar con el valor de c \n",
    "    ## los alambres superiores según los bits contenidos en la lista c. \n",
    "    for i in range(len(c)):\n",
    "        if c[i] == 1:\n",
    "            circuito.x(i)\n",
    "    \n",
    "    # Insertar circuito. No cambiar el segundo parámetro.\n",
    "    circuito.append(oraculo, list(range(tam)))\n",
    "    \n",
    "    ## Medición\n",
    "    ## Añadan la medición con los parámetros adecuados:\n",
    "    circuito.measure(tam - 1, 0)\n",
    "    \n",
    "    ## Realización de la simulación con 1 shot \n",
    "    simulador = Aer.get_backend('qasm_simulator')\n",
    "    conteos = execute(circuito, backend = simulador, shots = 1).result().get_counts()\n",
    "    valor_orac_en_c = int(list(conteos.keys())[0]) # No cambiar. Extrae del diccionario el estado medido\n",
    "    \n",
    "    ## Retornar lo solicitado en las indicaciones\n",
    "    return valor_orac_en_c  "
   ]
  },
  {
   "cell_type": "code",
   "execution_count": 6,
   "metadata": {},
   "outputs": [],
   "source": [
    "def tabular_oraculo(oraculo):\n",
    "    '''\n",
    "    Esta función recibe como argumento una compuerta cuántica (oráculo) e imprime la tabulación de los valores\n",
    "    de f para toda cadena en su dominio.\n",
    "    '''\n",
    "    n = oraculo.num_qubits - 1   # Determina la longitud de las cadenas de 0s y 1s en el conjunto de salida de f.\n",
    "    ## Crear un print que escriba el título de la tabulación según lo pedido en las indicaciones\n",
    "    \n",
    "    print(\"Tabla de valores de la función f:{0, 1}^3 ---> {0, 1}\")\n",
    "    print(\"-----------------------------------------------------\")\n",
    "    \n",
    "    # Este ciclo for debe recorrer los enteros de 0 a 2^n - 1. Notemos que al pasar esos números \n",
    "    # a binario obtendremos todas las posibles cadenas de 0s y 1s de longitud n. \n",
    "    # (Desde 00...0 hasta 11...1)\n",
    "     \n",
    "    respuesta = []\n",
    "    \n",
    "    # Completar \n",
    "    for i in range((2**n)):   \n",
    "        \n",
    "        ## Completar con los parámetros adecuados para obtener una lista que contenga la \n",
    "        ## representación binaria del contador del ciclo.\n",
    "        s = decimal_a_binario(n,i)\n",
    "        \n",
    "        ## La variable 'valor' debe corresponder al valor de f(s) y debe hallarse usando la \n",
    "        ## función del ejercicio anterior\n",
    "        valor = evaluar_oraculo_en_c(oraculo, s)                   \n",
    "        \n",
    "        lista_a_cadena = ''.join([str(bit) for bit in s]) # Simplemente convierte la lista s a cadena para su\n",
    "                                                          # uso en el print. No cambiar.\n",
    "        \n",
    "        ## Completar el print para que escriba la línea solicitada en las indicaciones.\n",
    "        respuesta += [str(valor)]\n",
    "        print(\"f(\"+lista_a_cadena+\") = \"+ str(valor))\n",
    "       \n",
    "    return respuesta\n",
    "    "
   ]
  },
  {
   "cell_type": "code",
   "execution_count": 7,
   "metadata": {},
   "outputs": [
    {
     "name": "stdout",
     "output_type": "stream",
     "text": [
      "Tabla de valores de la función f:{0, 1}^3 ---> {0, 1}\n",
      "-----------------------------------------------------\n",
      "f(000) = 1\n",
      "f(001) = 1\n",
      "f(010) = 1\n",
      "f(011) = 1\n",
      "f(100) = 0\n",
      "f(101) = 0\n",
      "f(110) = 0\n",
      "f(111) = 0\n"
     ]
    },
    {
     "data": {
      "text/plain": [
       "['1', '1', '1', '1', '0', '0', '0', '0']"
      ]
     },
     "execution_count": 7,
     "metadata": {},
     "output_type": "execute_result"
    }
   ],
   "source": [
    "tabular_oraculo(oraculo)"
   ]
  },
  {
   "cell_type": "code",
   "execution_count": 8,
   "metadata": {},
   "outputs": [
    {
     "data": {
      "image/png": "[encoded data removed]",
      "text/plain": [
       "<Figure size 418.992x264.88 with 1 Axes>"
      ]
     },
     "execution_count": 8,
     "metadata": {},
     "output_type": "execute_result"
    }
   ],
   "source": [
    "circuito2 = QuantumCircuit(4)\n",
    "circuito2.ccx(0,1,3)\n",
    "circuito2.x(1)\n",
    "circuito2.ccx(1,2,3)\n",
    "circuito2.x(1)\n",
    "circuito2.draw(output = 'mpl')"
   ]
  },
  {
   "cell_type": "code",
   "execution_count": 9,
   "metadata": {},
   "outputs": [],
   "source": [
    "oraculo2 = circuito2.to_gate()\n",
    "oraculo2.name = 'Oraculo2'"
   ]
  },
  {
   "cell_type": "code",
   "execution_count": 10,
   "metadata": {},
   "outputs": [
    {
     "name": "stdout",
     "output_type": "stream",
     "text": [
      "Tabla de valores de la función f:{0, 1}^3 ---> {0, 1}\n",
      "-----------------------------------------------------\n",
      "f(000) = 0\n",
      "f(001) = 1\n",
      "f(010) = 0\n",
      "f(011) = 0\n",
      "f(100) = 0\n",
      "f(101) = 1\n",
      "f(110) = 1\n",
      "f(111) = 1\n"
     ]
    },
    {
     "data": {
      "text/plain": [
       "['0', '1', '0', '0', '0', '1', '1', '1']"
      ]
     },
     "execution_count": 10,
     "metadata": {},
     "output_type": "execute_result"
    }
   ],
   "source": [
    "tabular_oraculo(oraculo2)"
   ]
  },
  {
   "cell_type": "code",
   "execution_count": 11,
   "metadata": {},
   "outputs": [
    {
     "data": {
      "image/png": "[encoded data removed]",
      "text/plain": [
       "<Figure size 418.992x264.88 with 1 Axes>"
      ]
     },
     "execution_count": 11,
     "metadata": {},
     "output_type": "execute_result"
    }
   ],
   "source": [
    "circuito3 = QuantumCircuit(4)\n",
    "circuito3.x([0,2])\n",
    "circuito3.ccx(0,2,3)\n",
    "circuito3.x([0,2])\n",
    "circuito3.ccx(0,1,3)\n",
    "circuito3.draw(output = 'mpl')"
   ]
  },
  {
   "cell_type": "code",
   "execution_count": 12,
   "metadata": {},
   "outputs": [],
   "source": [
    "oraculo3 = circuito3.to_gate()\n",
    "oraculo3.name = 'Oraculo3'"
   ]
  },
  {
   "cell_type": "code",
   "execution_count": 13,
   "metadata": {},
   "outputs": [
    {
     "name": "stdout",
     "output_type": "stream",
     "text": [
      "Tabla de valores de la función f:{0, 1}^3 ---> {0, 1}\n",
      "-----------------------------------------------------\n",
      "f(000) = 1\n",
      "f(001) = 0\n",
      "f(010) = 1\n",
      "f(011) = 0\n",
      "f(100) = 0\n",
      "f(101) = 0\n",
      "f(110) = 1\n",
      "f(111) = 1\n"
     ]
    },
    {
     "data": {
      "text/plain": [
       "['1', '0', '1', '0', '0', '0', '1', '1']"
      ]
     },
     "execution_count": 13,
     "metadata": {},
     "output_type": "execute_result"
    }
   ],
   "source": [
    "tabular_oraculo(oraculo3)"
   ]
  },
  {
   "cell_type": "code",
   "execution_count": 14,
   "metadata": {},
   "outputs": [
    {
     "data": {
      "image/png": "[encoded data removed]",
      "text/plain": [
       "<Figure size 659.792x264.88 with 1 Axes>"
      ]
     },
     "execution_count": 14,
     "metadata": {},
     "output_type": "execute_result"
    }
   ],
   "source": [
    "circuito4 = QuantumCircuit(4)\n",
    "circuito4.x(0)\n",
    "circuito4.ccx(0,1,3)\n",
    "circuito4.x(0)\n",
    "circuito4.ccx(1,2,3)\n",
    "circuito4.x(1)\n",
    "circuito4.ccx(1,2,3)\n",
    "circuito4.x([1,0])\n",
    "circuito4.ccx(0,1,3)\n",
    "circuito4.x(0)\n",
    "circuito4.draw(output='mpl')"
   ]
  },
  {
   "cell_type": "code",
   "execution_count": 15,
   "metadata": {},
   "outputs": [],
   "source": [
    "oraculo4 = circuito4.to_gate()\n",
    "oraculo4.name = 'Oraculo4'"
   ]
  },
  {
   "cell_type": "code",
   "execution_count": 16,
   "metadata": {},
   "outputs": [
    {
     "name": "stdout",
     "output_type": "stream",
     "text": [
      "Tabla de valores de la función f:{0, 1}^3 ---> {0, 1}\n",
      "-----------------------------------------------------\n",
      "f(000) = 0\n",
      "f(001) = 1\n",
      "f(010) = 0\n",
      "f(011) = 1\n",
      "f(100) = 0\n",
      "f(101) = 1\n",
      "f(110) = 0\n",
      "f(111) = 1\n"
     ]
    },
    {
     "data": {
      "text/plain": [
       "['0', '1', '0', '1', '0', '1', '0', '1']"
      ]
     },
     "execution_count": 16,
     "metadata": {},
     "output_type": "execute_result"
    }
   ],
   "source": [
    "tabular_oraculo(oraculo4)"
   ]
  },
  {
   "cell_type": "markdown",
   "metadata": {},
   "source": [
    "### 4. f(x) =  $\\mathbf{x} \\oplus \\mathbf{c} $  donde c = 110   \n",
    "\n",
    "| Cadena $\\mathbf{x}$ en $\\{0, 1\\}^3$ | Hacemos $\\mathbf{x} \\oplus \\mathbf{c} $ | Resultado |\n",
    "| ----------------------------------  | --------------------------------------- | --------- |\n",
    "|            000                      |            000 $\\oplus$ 110             |  110      |\n",
    "|            001                      |            001 $\\oplus$ 110             |  111      |\n",
    "|            010                      |            010 $\\oplus$ 110             |  100      |\n",
    "|            011                      |            011 $\\oplus$ 110             |  101      |\n",
    "|            100                      |            100 $\\oplus$ 110             |  010      |\n",
    "|            101                      |            101 $\\oplus$ 110             |  011      |\n",
    "|            110                      |            110 $\\oplus$ 110             |  000      |\n",
    "|            111                      |            111 $\\oplus$ 110             |  001      |"
   ]
  },
  {
   "cell_type": "code",
   "execution_count": 17,
   "metadata": {},
   "outputs": [
    {
     "data": {
      "image/png": "[encoded data removed]",
      "text/plain": [
       "<Figure size 659.792x264.88 with 1 Axes>"
      ]
     },
     "execution_count": 17,
     "metadata": {},
     "output_type": "execute_result"
    }
   ],
   "source": [
    "circuito5 = QuantumCircuit(4)\n",
    "circuito5.ccx(0,1,3)\n",
    "circuito5.x([1,2])\n",
    "circuito5.ccx(1,2,3)\n",
    "circuito5.x([1,2])\n",
    "circuito5.x(1)\n",
    "circuito5.ccx(1,2,3)\n",
    "circuito5.x(1)\n",
    "circuito5.ccx(0,1,3)\n",
    "circuito5.draw(output='mpl')"
   ]
  },
  {
   "cell_type": "code",
   "execution_count": 19,
   "metadata": {},
   "outputs": [],
   "source": [
    "oraculo5 = circuito5.to_gate()\n",
    "oraculo5.name='Oraculo5'"
   ]
  },
  {
   "cell_type": "code",
   "execution_count": 20,
   "metadata": {},
   "outputs": [
    {
     "name": "stdout",
     "output_type": "stream",
     "text": [
      "Tabla de valores de la función f:{0, 1}^3 ---> {0, 1}\n",
      "-----------------------------------------------------\n",
      "f(000) = 1\n",
      "f(001) = 1\n",
      "f(010) = 0\n",
      "f(011) = 0\n",
      "f(100) = 1\n",
      "f(101) = 1\n",
      "f(110) = 0\n",
      "f(111) = 0\n"
     ]
    },
    {
     "data": {
      "text/plain": [
       "['1', '1', '0', '0', '1', '1', '0', '0']"
      ]
     },
     "execution_count": 20,
     "metadata": {},
     "output_type": "execute_result"
    }
   ],
   "source": [
    "tabular_oraculo(oraculo5)"
   ]
  },
  {
   "cell_type": "code",
   "execution_count": 42,
   "metadata": {},
   "outputs": [
    {
     "data": {
      "image/png": "[encoded data removed]",
      "text/plain": [
       "<Figure size 960.792x325.08 with 1 Axes>"
      ]
     },
     "execution_count": 42,
     "metadata": {},
     "output_type": "execute_result"
    }
   ],
   "source": [
    "circuito6 = QuantumCircuit(5)\n",
    "circuito6.ccx(1,2,3)\n",
    "circuito6.x(2)\n",
    "circuito6.ccx(1,2,3)\n",
    "circuito6.x(2)\n",
    "circuito6.cx(0,2)\n",
    "circuito6.x(2)\n",
    "circuito6.ccx(2,3,4)\n",
    "circuito6.x(2)\n",
    "circuito6.ccx(2,3,4)\n",
    "circuito6.x(2)\n",
    "circuito6.ccx(1,2,3)\n",
    "circuito6.x(2)\n",
    "circuito6.ccx(1,2,3)\n",
    "circuito6.draw(output='mpl')"
   ]
  },
  {
   "cell_type": "code",
   "execution_count": 43,
   "metadata": {},
   "outputs": [],
   "source": [
    "oraculo6 = circuito6.to_gate()\n",
    "oraculo6.name = 'Oraculo6'"
   ]
  },
  {
   "cell_type": "code",
   "execution_count": 44,
   "metadata": {},
   "outputs": [
    {
     "name": "stdout",
     "output_type": "stream",
     "text": [
      "Tabla de valores de la función f:{0, 1}^3 ---> {0, 1}\n",
      "-----------------------------------------------------\n",
      "f(0000) = 0\n",
      "f(0001) = 1\n",
      "f(0010) = 0\n",
      "f(0011) = 1\n",
      "f(0100) = 1\n",
      "f(0101) = 0\n",
      "f(0110) = 1\n",
      "f(0111) = 0\n",
      "f(1000) = 0\n",
      "f(1001) = 1\n",
      "f(1010) = 0\n",
      "f(1011) = 1\n",
      "f(1100) = 1\n",
      "f(1101) = 0\n",
      "f(1110) = 1\n",
      "f(1111) = 0\n"
     ]
    },
    {
     "data": {
      "text/plain": [
       "['0',\n",
       " '1',\n",
       " '0',\n",
       " '1',\n",
       " '1',\n",
       " '0',\n",
       " '1',\n",
       " '0',\n",
       " '0',\n",
       " '1',\n",
       " '0',\n",
       " '1',\n",
       " '1',\n",
       " '0',\n",
       " '1',\n",
       " '0']"
      ]
     },
     "execution_count": 44,
     "metadata": {},
     "output_type": "execute_result"
    }
   ],
   "source": [
    "tabular_oraculo(oraculo6)"
   ]
  },
  {
   "cell_type": "code",
   "execution_count": null,
   "metadata": {},
   "outputs": [],
   "source": []
  }
 ],
 "metadata": {
  "kernelspec": {
   "display_name": "Python 3",
   "language": "python",
   "name": "python3"
  },
  "language_info": {
   "codemirror_mode": {
    "name": "ipython",
    "version": 3
   },
   "file_extension": ".py",
   "mimetype": "text/x-python",
   "name": "python",
   "nbconvert_exporter": "python",
   "pygments_lexer": "ipython3",
   "version": "3.8.3"
  }
 },
 "nbformat": 4,
 "nbformat_minor": 4
}
