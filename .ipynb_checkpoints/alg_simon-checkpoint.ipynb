{
 "cells": [
  {
   "cell_type": "markdown",
   "metadata": {},
   "source": [
    "# El algoritmo de Simon\n",
    "---"
   ]
  },
  {
   "cell_type": "markdown",
   "metadata": {},
   "source": [
    "## El problema\n",
    "\n",
    "El **problema de Simon** consiste en determinar el periodo de una función periódica \n",
    "\n",
    "$$f: \\{0, 1\\}^n \\longrightarrow \\{0, 1\\}^n$$\n",
    "\n",
    "Dicho periodo es una cadena $\\mathbf{c}$ de ceros y unos que tiene longitud $n$ y se cumple que para todo par de cadenas distintas:\n",
    "\n",
    "$$f(\\mathbf{x}) = f(\\mathbf{x'}) \\quad \\Longleftrightarrow \\quad \\mathbf{x'} = \\mathbf{x} \\oplus \\mathbf{c}$$  \n",
    "\n",
    "Donde $\\oplus$ es la suma binaria (o XOR) componente a componente de las cadenas sin *llevar*."
   ]
  },
  {
   "cell_type": "markdown",
   "metadata": {},
   "source": [
    "## Analogía con funciones periódicas que conocemos\n",
    "\n",
    "<img src=\"seno.png\">"
   ]
  },
  {
   "cell_type": "markdown",
   "metadata": {},
   "source": [
    "## Un ejemplo\n",
    "\n",
    "Imaginemos que somos \"los malos\" de la historia y que vamos a construir una función periódica para que \"los buenos\" intenten encontrar su periodo.\n",
    "\n",
    "* Empezamos determinando el valor de $n$. Por ejemplo, $n = 3$.\n",
    "\n",
    "* Luego determinamos el valor de $\\mathbf{c}$, por ejemplo $\\mathbf{c} = 110$.\n",
    "\n",
    "* Como siguiente paso empezamos a determinar cuáles $\\mathbf{x}$ y $\\mathbf{x'}$ van a tener el mismo valor. Esto es muy sencillo, lo único que debemos hacer es sumarle ($\\oplus$) a cada una de las cadenas de ceros y unos de longitud $n = 3$ la cadena $\\mathbf{c} = 110$ y agrupar las cadena con la que iniciamos junto con la cadena que obtuvimos como resultado.\n",
    "\n",
    "Esto lo hacemos en la siguiente tabla:\n",
    "\n",
    "| Cadena $\\mathbf{x}$ en $\\{0, 1\\}^3$ | Hacemos $\\mathbf{x} \\oplus \\mathbf{c} $ | Resultado |\n",
    "| ----------------------------------  | --------------------------------------- | --------- |\n",
    "|            000                      |            000 $\\oplus$ 110             |  110      |\n",
    "|            001                      |            001 $\\oplus$ 110             |  111      |\n",
    "|            010                      |            010 $\\oplus$ 110             |  100      |\n",
    "|            011                      |            011 $\\oplus$ 110             |           |\n",
    "|            100                      |            100 $\\oplus$ 110             |           |\n",
    "|            101                      |            101 $\\oplus$ 110             |           |\n",
    "|            110                      |            110 $\\oplus$ 110             |           |\n",
    "|            111                      |            111 $\\oplus$ 110             |           |\n"
   ]
  },
  {
   "cell_type": "markdown",
   "metadata": {},
   "source": [
    "Aquí ya tenemos la tabla completa:\n",
    "\n",
    "| Cadena $\\mathbf{x}$ en $\\{0, 1\\}^3$ | Hacemos $\\mathbf{x} \\oplus \\mathbf{c} $ | Resultado |\n",
    "| ----------------------------------  | --------------------------------------- | --------- |\n",
    "|            000                      |            000 $\\oplus$ 110             |  110      |\n",
    "|            001                      |            001 $\\oplus$ 110             |  111      |\n",
    "|            010                      |            010 $\\oplus$ 110             |  100      |\n",
    "|            011                      |            011 $\\oplus$ 110             |  101      |\n",
    "|            100                      |            100 $\\oplus$ 110             |  010      |\n",
    "|            101                      |            101 $\\oplus$ 110             |  011     |\n",
    "|            110                      |            110 $\\oplus$ 110             |  000      |\n",
    "|            111                      |            111 $\\oplus$ 110             |  001      |"
   ]
  },
  {
   "cell_type": "markdown",
   "metadata": {},
   "source": [
    "De modo que las cadenas que vemos dentro de la misma nube **deben** tener un mismo valor bajo la función $f$\n",
    "\n",
    "<img src=\"diag1.png\">\n",
    "\n",
    "Como los \"villanos\" tenemos ahora muchas opciones para definir nuestra función. Lo único que debemos respetar es que nubes distintas vayan a valores distintos. Por ejemplo, la opción que yo escogí fue la siguiente:\n",
    "\n",
    "<img src=\"diag2.png\">"
   ]
  },
  {
   "cell_type": "markdown",
   "metadata": {},
   "source": [
    "Ahora voy a crear el oráculo"
   ]
  },
  {
   "cell_type": "code",
   "execution_count": 1,
   "metadata": {},
   "outputs": [],
   "source": [
    "from qiskit import QuantumCircuit"
   ]
  },
  {
   "cell_type": "code",
   "execution_count": 2,
   "metadata": {},
   "outputs": [],
   "source": [
    "qc = QuantumCircuit(6)\n",
    "qc.cx(2, 5)\n",
    "qc.cx(0, 3)\n",
    "qc.cx(1, 3)\n",
    "qc.x(3)\n",
    "qc.cx(1, 4)\n",
    "qc.cx(0, 4)\n",
    "orac = qc.to_gate()\n",
    "orac.name = 'Oráculo Simon'"
   ]
  },
  {
   "cell_type": "markdown",
   "metadata": {},
   "source": [
    "*Ahora \"olvida\" todo lo que acabamos de hacer pues vamos a ponernos en los zapatos de \"los buenos\"*"
   ]
  },
  {
   "cell_type": "markdown",
   "metadata": {},
   "source": [
    "¿Puedes consultar clásicamente el oráculo? ¿Nos dan los mismos valores que lo que definieron los malos anteriormente?"
   ]
  },
  {
   "cell_type": "code",
   "execution_count": 15,
   "metadata": {},
   "outputs": [
    {
     "data": {
      "text/html": [
       "<pre style=\"word-wrap: normal;white-space: pre;background: #fff0;line-height: 1.1;font-family: &quot;Courier New&quot;,Courier,monospace\">     ┌────────────────┐         \n",
       "q_0: ┤0               ├─────────\n",
       "     │                │         \n",
       "q_1: ┤1               ├─────────\n",
       "     │                │         \n",
       "q_2: ┤2               ├─────────\n",
       "     │  Oráculo Simon │┌─┐      \n",
       "q_3: ┤3               ├┤M├──────\n",
       "     │                │└╥┘┌─┐   \n",
       "q_4: ┤4               ├─╫─┤M├───\n",
       "     │                │ ║ └╥┘┌─┐\n",
       "q_5: ┤5               ├─╫──╫─┤M├\n",
       "     └────────────────┘ ║  ║ └╥┘\n",
       "c_0: ═══════════════════╩══╬══╬═\n",
       "                           ║  ║ \n",
       "c_1: ══════════════════════╩══╬═\n",
       "                              ║ \n",
       "c_2: ═════════════════════════╩═\n",
       "                                </pre>"
      ],
      "text/plain": [
       "     ┌────────────────┐         \n",
       "q_0: ┤0               ├─────────\n",
       "     │                │         \n",
       "q_1: ┤1               ├─────────\n",
       "     │                │         \n",
       "q_2: ┤2               ├─────────\n",
       "     │  Oráculo Simon │┌─┐      \n",
       "q_3: ┤3               ├┤M├──────\n",
       "     │                │└╥┘┌─┐   \n",
       "q_4: ┤4               ├─╫─┤M├───\n",
       "     │                │ ║ └╥┘┌─┐\n",
       "q_5: ┤5               ├─╫──╫─┤M├\n",
       "     └────────────────┘ ║  ║ └╥┘\n",
       "c_0: ═══════════════════╩══╬══╬═\n",
       "                           ║  ║ \n",
       "c_1: ══════════════════════╩══╬═\n",
       "                              ║ \n",
       "c_2: ═════════════════════════╩═\n",
       "                                "
      ]
     },
     "execution_count": 15,
     "metadata": {},
     "output_type": "execute_result"
    }
   ],
   "source": [
    "# f(000)\n",
    "circuito = QuantumCircuit(6, 3)\n",
    "#circuito.x(0)\n",
    "#circuito.x(2)\n",
    "circuito.append(orac, [0, 1, 2, 3, 4, 5])\n",
    "circuito.measure(3, 0)\n",
    "circuito.measure(4, 1)\n",
    "circuito.measure(5, 2)\n",
    "circuito.draw()"
   ]
  },
  {
   "cell_type": "code",
   "execution_count": 7,
   "metadata": {},
   "outputs": [],
   "source": [
    "from qiskit import Aer, execute\n",
    "from qiskit.visualization import plot_histogram"
   ]
  },
  {
   "cell_type": "code",
   "execution_count": 16,
   "metadata": {},
   "outputs": [
    {
     "name": "stdout",
     "output_type": "stream",
     "text": [
      "{'001': 1}\n"
     ]
    },
    {
     "data": {
      "image/png": "[encoded data removed]",
      "text/plain": [
       "<Figure size 504x360 with 1 Axes>"
      ]
     },
     "execution_count": 16,
     "metadata": {},
     "output_type": "execute_result"
    }
   ],
   "source": [
    "simulador = Aer.get_backend('qasm_simulator')\n",
    "conteos = execute(circuito, backend=simulador, shots=1).result().get_counts()\n",
    "print(conteos)\n",
    "plot_histogram(conteos)"
   ]
  },
  {
   "cell_type": "markdown",
   "metadata": {},
   "source": [
    "**Solución clásica:** Empezar a tabular valores hasta encontrar cadenas $\\mathbf{x}$ y $\\mathbf{x'}$ que cumplan $f(\\mathbf{x}) = f(\\mathbf{x'})$. El periodo buscado será \n",
    "\n",
    "$$\\mathbf{c} = \\mathbf{x} \\oplus \\mathbf{x'}$$\n",
    "\n",
    "**Solución cuántica:** Implementar el algoritmo/circuito de Simon y ejecutarlo (1 shot). Los estados que obtenemos como resultados nos permitirán descifrar el valor de $\\mathbf{c}$. Pues por el diseño del algoritmo los resultados $\\mathbf{r}$ obtenidos cumplirán que\n",
    "\n",
    "$$ \\mathbf{c} \\cdot \\mathbf{r} = 0$$\n",
    "\n",
    "Ejemplo de la operación $\\cdot$ entre cadenas:\n",
    "\n",
    "$$110 \\cdot 101 = (1 \\wedge 1) \\oplus (1 \\wedge 0) \\oplus (0 \\wedge 1) = 1 \\oplus 0 \\oplus 0 = 1$$"
   ]
  },
  {
   "cell_type": "code",
   "execution_count": 18,
   "metadata": {},
   "outputs": [
    {
     "data": {
      "image/png": "[encoded data removed]",
      "text/plain": [
       "<Figure size 780.192x445.48 with 1 Axes>"
      ]
     },
     "execution_count": 18,
     "metadata": {},
     "output_type": "execute_result"
    }
   ],
   "source": [
    "circuito = QuantumCircuit(6, 3)\n",
    "circuito.h([0, 1, 2])\n",
    "circuito.append(orac, [0, 1, 2, 3, 4, 5])\n",
    "circuito.h([0, 1, 2])\n",
    "circuito.measure([0, 1, 2], [0, 1, 2])\n",
    "circuito.draw(output='mpl')"
   ]
  },
  {
   "cell_type": "code",
   "execution_count": 23,
   "metadata": {},
   "outputs": [
    {
     "name": "stdout",
     "output_type": "stream",
     "text": [
      "{'100': 1}\n"
     ]
    }
   ],
   "source": [
    "simulador = Aer.get_backend('qasm_simulator')\n",
    "conteos = execute(circuito, backend=simulador, shots=1).result().get_counts()\n",
    "print(conteos)"
   ]
  },
  {
   "cell_type": "code",
   "execution_count": null,
   "metadata": {},
   "outputs": [],
   "source": []
  }
 ],
 "metadata": {
  "kernelspec": {
   "display_name": "Python 3",
   "language": "python",
   "name": "python3"
  },
  "language_info": {
   "codemirror_mode": {
    "name": "ipython",
    "version": 3
   },
   "file_extension": ".py",
   "mimetype": "text/x-python",
   "name": "python",
   "nbconvert_exporter": "python",
   "pygments_lexer": "ipython3",
   "version": "3.8.3"
  }
 },
 "nbformat": 4,
 "nbformat_minor": 4
}
