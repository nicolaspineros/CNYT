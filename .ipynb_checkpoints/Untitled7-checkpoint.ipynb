{
 "cells": [
  {
   "cell_type": "code",
   "execution_count": 1,
   "metadata": {},
   "outputs": [],
   "source": [
    "from qiskit import QuantumCircuit,QuantumRegister,ClassicalRegister, Aer, execute\n",
    "import numpy as np\n",
    "from qiskit.visualization import plot_histogram"
   ]
  },
  {
   "cell_type": "markdown",
   "metadata": {},
   "source": [
    "#  CNYT\n",
    "### Oscar Nicolas Piñeros Campo"
   ]
  },
  {
   "cell_type": "markdown",
   "metadata": {},
   "source": [
    "1. Montar en Qiskit el circuito siguiente, meterlo dentro de una compuerta con el método .to_gate() y tabular el oráculo resultante usando por ejemplo la función del laboratorio de Deutsch-Jozsa. "
   ]
  },
  {
   "cell_type": "code",
   "execution_count": 53,
   "metadata": {},
   "outputs": [
    {
     "data": {
      "image/png": "[encoded data removed]",
      "text/plain": [
       "<Figure size 418.992x264.88 with 1 Axes>"
      ]
     },
     "execution_count": 53,
     "metadata": {},
     "output_type": "execute_result"
    }
   ],
   "source": [
    "circuito = QuantumCircuit(4)\n",
    "circuito.x(1)\n",
    "circuito.ccx(0,1,3)\n",
    "circuito.x(1)\n",
    "circuito.ccx(1,2,3)\n",
    "circuito.draw(output = 'mpl')"
   ]
  },
  {
   "cell_type": "code",
   "execution_count": 54,
   "metadata": {},
   "outputs": [],
   "source": [
    "oraculo = circuito.to_gate()\n",
    "oraculo.name = 'Oráculo'"
   ]
  },
  {
   "cell_type": "code",
   "execution_count": 55,
   "metadata": {},
   "outputs": [],
   "source": [
    "def decimal_a_binario(n, k):\n",
    "    '''\n",
    "    Esta función recibe una longitud n y un entero k. Retorna una lista de longitud n tal que cada elemento\n",
    "    es un dígito de la representación binaria de k.\n",
    "    '''\n",
    "    lista_binaria = []\n",
    "    \n",
    "    for i in reversed(range(n)):\n",
    "        bit = k // 2**i\n",
    "        k = k % 2**i\n",
    "        lista_binaria.append(bit)\n",
    "    \n",
    "    return lista_binaria"
   ]
  },
  {
   "cell_type": "code",
   "execution_count": 56,
   "metadata": {},
   "outputs": [],
   "source": [
    "def evaluar_oraculo_en_c(oraculo, c):\n",
    "    \n",
    "    tam = oraculo.num_qubits   # Tamaño o número de qubits que abarca el oráculo. No cambiar.\n",
    "    \n",
    "    ## Declaren el circuito cuántico con los parámetros adecuados:\n",
    "    circuito = QuantumCircuit(tam, 1)      \n",
    "    \n",
    "    ## Inicialización\n",
    "    ## Usen este ciclo for y un condicional if dentro del for para inicializar con el valor de c \n",
    "    ## los alambres superiores según los bits contenidos en la lista c. \n",
    "    for i in range(len(c)):\n",
    "        if c[i] == 1:\n",
    "            circuito.x(i)\n",
    "    \n",
    "    # Insertar circuito. No cambiar el segundo parámetro.\n",
    "    circuito.append(oraculo, list(range(tam)))\n",
    "    \n",
    "    ## Medición\n",
    "    ## Añadan la medición con los parámetros adecuados:\n",
    "    circuito.measure(tam - 1, 0)\n",
    "    \n",
    "    ## Realización de la simulación con 1 shot \n",
    "    simulador = Aer.get_backend('qasm_simulator')\n",
    "    conteos = execute(circuito, backend = simulador, shots = 1).result().get_counts()\n",
    "    valor_orac_en_c = int(list(conteos.keys())[0]) # No cambiar. Extrae del diccionario el estado medido\n",
    "    \n",
    "    ## Retornar lo solicitado en las indicaciones\n",
    "    return valor_orac_en_c  "
   ]
  },
  {
   "cell_type": "code",
   "execution_count": 57,
   "metadata": {},
   "outputs": [],
   "source": [
    "def tabular_oraculo(oraculo):\n",
    "    '''\n",
    "    Esta función recibe como argumento una compuerta cuántica (oráculo) e imprime la tabulación de los valores\n",
    "    de f para toda cadena en su dominio.\n",
    "    '''\n",
    "    n = oraculo.num_qubits - 1   # Determina la longitud de las cadenas de 0s y 1s en el conjunto de salida de f.\n",
    "    ## Crear un print que escriba el título de la tabulación según lo pedido en las indicaciones\n",
    "    \n",
    "    print(\"Tabla de valores de la función f:{0, 1}^3 ---> {0, 1}\")\n",
    "    print(\"-----------------------------------------------------\")\n",
    "    \n",
    "    # Este ciclo for debe recorrer los enteros de 0 a 2^n - 1. Notemos que al pasar esos números \n",
    "    # a binario obtendremos todas las posibles cadenas de 0s y 1s de longitud n. \n",
    "    # (Desde 00...0 hasta 11...1)\n",
    "     \n",
    "    respuesta = []\n",
    "    \n",
    "    # Completar \n",
    "    for i in range((2**n)):   \n",
    "        \n",
    "        ## Completar con los parámetros adecuados para obtener una lista que contenga la \n",
    "        ## representación binaria del contador del ciclo.\n",
    "        s = decimal_a_binario(n,i)\n",
    "        \n",
    "        ## La variable 'valor' debe corresponder al valor de f(s) y debe hallarse usando la \n",
    "        ## función del ejercicio anterior\n",
    "        valor = evaluar_oraculo_en_c(oraculo, s)                   \n",
    "        \n",
    "        lista_a_cadena = ''.join([str(bit) for bit in s]) # Simplemente convierte la lista s a cadena para su\n",
    "                                                          # uso en el print. No cambiar.\n",
    "        \n",
    "        ## Completar el print para que escriba la línea solicitada en las indicaciones.\n",
    "        respuesta += [str(valor)]\n",
    "        print(\"f(\"+lista_a_cadena+\") = \"+ str(valor))\n",
    "       \n",
    "    return respuesta\n",
    "    "
   ]
  },
  {
   "cell_type": "code",
   "execution_count": 58,
   "metadata": {},
   "outputs": [
    {
     "name": "stdout",
     "output_type": "stream",
     "text": [
      "Tabla de valores de la función f:{0, 1}^3 ---> {0, 1}\n",
      "-----------------------------------------------------\n",
      "f(000) = 0\n",
      "f(001) = 0\n",
      "f(010) = 0\n",
      "f(011) = 1\n",
      "f(100) = 1\n",
      "f(101) = 1\n",
      "f(110) = 0\n",
      "f(111) = 1\n"
     ]
    },
    {
     "data": {
      "text/plain": [
       "['0', '0', '0', '1', '1', '1', '0', '1']"
      ]
     },
     "execution_count": 58,
     "metadata": {},
     "output_type": "execute_result"
    }
   ],
   "source": [
    "tabular_oraculo(oraculo)"
   ]
  },
  {
   "cell_type": "code",
   "execution_count": null,
   "metadata": {},
   "outputs": [],
   "source": []
  }
 ],
 "metadata": {
  "kernelspec": {
   "display_name": "Python 3",
   "language": "python",
   "name": "python3"
  },
  "language_info": {
   "codemirror_mode": {
    "name": "ipython",
    "version": 3
   },
   "file_extension": ".py",
   "mimetype": "text/x-python",
   "name": "python",
   "nbconvert_exporter": "python",
   "pygments_lexer": "ipython3",
   "version": "3.8.3"
  }
 },
 "nbformat": 4,
 "nbformat_minor": 4
}
