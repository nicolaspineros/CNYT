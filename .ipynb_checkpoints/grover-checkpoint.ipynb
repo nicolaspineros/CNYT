{
 "cells": [
  {
   "cell_type": "markdown",
   "metadata": {},
   "source": [
    "# Algoritmo de Grover\n",
    "\n",
    "*Ciencias Naturales y Tecnología*\n",
    "\n",
    "Sergio Tello\n",
    "\n",
    "---\n",
    "\n",
    "Algoritmo cuántico para búsqueda desarrollado por Lov Grover en 1996."
   ]
  },
  {
   "cell_type": "markdown",
   "metadata": {},
   "source": [
    "<img src='grover.jpg' align='center' width='250'>\n",
    "<p style=\"text-align: center;\">Lov Grover</p>"
   ]
  },
  {
   "cell_type": "markdown",
   "metadata": {},
   "source": [
    "Si nos dan una función $f:\\{0,1\\}^n \\rightarrow \\{0,1\\}$ el algoritmo de Grover responde a la pregunta:\n",
    "\n",
    "\n",
    "**¿Para cuáles cadenas $\\mathbf{x}$ del conjunto de salida se tiene que $f(\\mathbf{x}) = 1$?**\n",
    "\n",
    "Observaciones:\n",
    "\n",
    "* Lo más común es que sea una función que cumpla $f(\\mathbf{x}) = 1$ para sólo una cadena y el objetivo será encontrar el valor de esa cadena $\\mathbf{x}$. \n",
    "\n",
    "* Si se cumple lo anterior debemos tener en cuenta que *clásicamente* el valor esperado del número de veces que debemos consultar el oráculo antes de hallar la cadena ganadora es igual a:\n",
    "\n",
    "$$\\frac{2^n + 1}{2}$$\n",
    "\n",
    "* Usando el algoritmo de Grover el número de veces que debemos consultar el oráculo es de máximo:\n",
    "\n",
    "$$\\left\\lceil \\frac{\\pi}{4}\\sqrt{2^n} \\right\\rceil$$\n",
    "\n",
    "En esta tabla podemos ver la comparación entre estas dos cantidades para distintos valores de $n$: \n",
    "\n",
    "| $n$  | Número de cadenas | Clásico | Cuántico |\n",
    "| ---- | ----------------- | ------- | -------- |\n",
    "| 2    |    4              |   3     | 2        |\n",
    "| 3    |    8              |   5     | 3        |\n",
    "| 4    |    16             |  9      | 4        |\n",
    "| 5    |    32             |  17     | 5        |\n",
    "| 6    |    64             |  33     | 7        |\n",
    "| 7    |    128            |  65     | 9        |\n",
    "| 8    |    256            |  129    | 13       |\n",
    "| 9    |    512            |  257    | 18       | \n",
    "| 10   |    1024           |  513    | 26       | \n",
    "\n",
    "<p style=\"text-align: center;\">Número de consultas al oráculo</p>"
   ]
  },
  {
   "cell_type": "code",
   "execution_count": 2,
   "metadata": {},
   "outputs": [],
   "source": [
    "# Importación de librerías\n",
    "from qiskit import QuantumCircuit, execute, Aer\n",
    "from qiskit.visualization import plot_histogram"
   ]
  },
  {
   "cell_type": "code",
   "execution_count": 3,
   "metadata": {},
   "outputs": [
    {
     "data": {
      "image/png": "[encoded data removed]",
      "text/plain": [
       "<Figure size 358.792x204.68 with 1 Axes>"
      ]
     },
     "execution_count": 3,
     "metadata": {},
     "output_type": "execute_result"
    }
   ],
   "source": [
    "circuito1 = QuantumCircuit(3)\n",
    "circuito1.x(1)\n",
    "circuito1.ccx(0, 1, 2) \n",
    "#circuito1.cx(1, 2)\n",
    "circuito1.x(1)\n",
    "\n",
    "circuito1.draw(output='mpl')"
   ]
  },
  {
   "cell_type": "markdown",
   "metadata": {},
   "source": [
    "Este circuito codifica la función $f:\\{0,1\\}^2 \\rightarrow \\{0,1\\}$ para la cual: $f(10) = 1$ y $f(x) = 0$ para las otras 3 cadenas $x$ de longitud 2."
   ]
  },
  {
   "cell_type": "code",
   "execution_count": 4,
   "metadata": {},
   "outputs": [],
   "source": [
    "orac_1 = circuito1.to_gate()\n",
    "orac_1.name = 'Oráculo Grover'"
   ]
  },
  {
   "cell_type": "markdown",
   "metadata": {},
   "source": [
    "### Tabulación clásica del oráculo (no es el algoritmo de Grover)"
   ]
  },
  {
   "cell_type": "code",
   "execution_count": 5,
   "metadata": {},
   "outputs": [
    {
     "data": {
      "image/png": "[encoded data removed]",
      "text/plain": [
       "<Figure size 599.592x264.88 with 1 Axes>"
      ]
     },
     "execution_count": 5,
     "metadata": {},
     "output_type": "execute_result"
    }
   ],
   "source": [
    "tabular_f = QuantumCircuit(3, 1)\n",
    "tabular_f.x(0)\n",
    "#tabular_f.x(1)\n",
    "\n",
    "tabular_f.append(orac_1, [0, 1, 2])\n",
    "tabular_f.measure(2, 0)\n",
    "tabular_f.draw(output='mpl')"
   ]
  },
  {
   "cell_type": "code",
   "execution_count": 6,
   "metadata": {},
   "outputs": [
    {
     "data": {
      "image/png": "[encoded data removed]",
      "text/plain": [
       "<Figure size 504x360 with 1 Axes>"
      ]
     },
     "execution_count": 6,
     "metadata": {},
     "output_type": "execute_result"
    }
   ],
   "source": [
    "simulador = Aer.get_backend('qasm_simulator')\n",
    "conteos = execute(tabular_f, backend=simulador, shots=1).result().get_counts()\n",
    "plot_histogram(conteos)"
   ]
  },
  {
   "cell_type": "markdown",
   "metadata": {},
   "source": [
    "**Fin del demo de tabulación clásica**"
   ]
  },
  {
   "cell_type": "markdown",
   "metadata": {},
   "source": [
    "## Operador de difusión\n",
    "Este operador es el que diferencia al algoritmo de Grover del algoritmo de Deutsch-Jozsa"
   ]
  },
  {
   "cell_type": "code",
   "execution_count": 7,
   "metadata": {},
   "outputs": [
    {
     "data": {
      "image/png": "[encoded data removed]",
      "text/plain": [
       "<Figure size 479.192x144.48 with 1 Axes>"
      ]
     },
     "execution_count": 7,
     "metadata": {},
     "output_type": "execute_result"
    }
   ],
   "source": [
    "c_oper1 = QuantumCircuit(2)\n",
    "c_oper1.x([0, 1])\n",
    "#c_oper1.barrier()\n",
    "c_oper1.h(1)\n",
    "c_oper1.cx(0, 1)\n",
    "c_oper1.h(1)\n",
    "#c_oper1.barrier()\n",
    "c_oper1.x([0, 1])\n",
    "c_oper1.draw(output='mpl')"
   ]
  },
  {
   "cell_type": "code",
   "execution_count": 8,
   "metadata": {},
   "outputs": [],
   "source": [
    "dif_1 = c_oper1.to_gate()\n",
    "dif_1.name = 'Difusión'"
   ]
  },
  {
   "cell_type": "markdown",
   "metadata": {},
   "source": [
    "## Circuito del algoritmo de Grover"
   ]
  },
  {
   "cell_type": "code",
   "execution_count": 9,
   "metadata": {},
   "outputs": [
    {
     "data": {
      "text/plain": [
       "<qiskit.circuit.instructionset.InstructionSet at 0x7f4f6819fa00>"
      ]
     },
     "execution_count": 9,
     "metadata": {},
     "output_type": "execute_result"
    }
   ],
   "source": [
    "grover1 = QuantumCircuit(3, 2)\n",
    "grover1.x(2)\n",
    "grover1.barrier()\n",
    "grover1.h([0, 1, 2])\n",
    "##\n",
    "grover1.append(orac_1, [0, 1, 2])\n",
    "grover1.h([0, 1])\n",
    "grover1.append(dif_1, [0, 1])\n",
    "grover1.h([0, 1])\n",
    "##\n",
    "grover1.measure([0, 1], [0, 1])"
   ]
  },
  {
   "cell_type": "code",
   "execution_count": 10,
   "metadata": {},
   "outputs": [
    {
     "data": {
      "image/png": "[encoded data removed]",
      "text/plain": [
       "<Figure size 1141.39x264.88 with 1 Axes>"
      ]
     },
     "execution_count": 10,
     "metadata": {},
     "output_type": "execute_result"
    }
   ],
   "source": [
    "grover1.draw(output='mpl')"
   ]
  },
  {
   "cell_type": "code",
   "execution_count": 11,
   "metadata": {},
   "outputs": [
    {
     "data": {
      "image/png": "[encoded data removed]",
      "text/plain": [
       "<Figure size 504x360 with 1 Axes>"
      ]
     },
     "execution_count": 11,
     "metadata": {},
     "output_type": "execute_result"
    }
   ],
   "source": [
    "simulador = Aer.get_backend('qasm_simulator')\n",
    "conteos1 = execute(grover1, backend=simulador, shots=1000).result().get_counts()\n",
    "plot_histogram(conteos1)"
   ]
  },
  {
   "cell_type": "markdown",
   "metadata": {},
   "source": [
    "Podemos ver que nuestro estado de salida es el $10$, el cual corresponde a la cadena que hace que $f(10) = 1$."
   ]
  },
  {
   "cell_type": "markdown",
   "metadata": {},
   "source": [
    "## Demo del algoritmo de Grover para $n=4$"
   ]
  },
  {
   "cell_type": "code",
   "execution_count": 12,
   "metadata": {},
   "outputs": [
    {
     "data": {
      "text/plain": [
       "<qiskit.circuit.instructionset.InstructionSet at 0x7f4f6809b340>"
      ]
     },
     "execution_count": 12,
     "metadata": {},
     "output_type": "execute_result"
    }
   ],
   "source": [
    "circuito = QuantumCircuit(5)\n",
    "circuito.x(1)\n",
    "circuito.mct([0, 1, 2, 3], 4) # Multicontrolled Toffoli\n",
    "circuito.x(1)"
   ]
  },
  {
   "cell_type": "code",
   "execution_count": 13,
   "metadata": {},
   "outputs": [
    {
     "data": {
      "image/png": "[encoded data removed]",
      "text/plain": [
       "<Figure size 358.792x325.08 with 1 Axes>"
      ]
     },
     "execution_count": 13,
     "metadata": {},
     "output_type": "execute_result"
    }
   ],
   "source": [
    "circuito.draw(output='mpl')"
   ]
  }
 ],
 "metadata": {
  "kernelspec": {
   "display_name": "Python 3",
   "language": "python",
   "name": "python3"
  },
  "language_info": {
   "codemirror_mode": {
    "name": "ipython",
    "version": 3
   },
   "file_extension": ".py",
   "mimetype": "text/x-python",
   "name": "python",
   "nbconvert_exporter": "python",
   "pygments_lexer": "ipython3",
   "version": "3.8.3"
  }
 },
 "nbformat": 4,
 "nbformat_minor": 4
}
