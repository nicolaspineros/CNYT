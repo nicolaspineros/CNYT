{
 "cells": [
  {
   "cell_type": "markdown",
   "metadata": {},
   "source": [
    "<img src= \"https://drive.google.com/uc?export=view&id=1qNzdkrPnRe_hAZp-grD3L8v6FVbaywz-\" align=\"right\" width=\"105\"> \n",
    "\n",
    "# <span style=\"color:#990000\">CNYT Parcial tercio 2</span>\n",
    "\n",
    "### <span style=\"color:#990000\">Escuela Colombiana de Ingeniería Julio Garavito - 2020-2</span>\n",
    "\n",
    "---"
   ]
  },
  {
   "cell_type": "markdown",
   "metadata": {},
   "source": [
    "*Yo certifico que mi trabajo en este examen es completamente individual:*\n",
    "\n",
    "**Nombre:**\n",
    "\n",
    "---"
   ]
  },
  {
   "cell_type": "markdown",
   "metadata": {},
   "source": [
    "**Instrucciones:** Desarrolla los ejercicios propuestos mostrando todo tu proceso, puedes crear celdas adicionales para esto ya sean de código o de formato Markdown. Al finalizar sube este Notebook con todas las celdas debidamente ejecutadas y cualquier otro archivo auxiliar (por ejemplo imágenes) a la entrega del Parcial 2 en Moodle. Dentro de los criterios de calificación se tendrá en cuenta la validez de las respuestas dadas y la buena presentación de las mismas. ¡Éxitos!\n",
    "\n",
    "---"
   ]
  },
  {
   "cell_type": "code",
   "execution_count": null,
   "metadata": {},
   "outputs": [],
   "source": [
    "from qiskit import QuantumCircuit, Aer, execute\n",
    "from qiskit.visualization import plot_histogram"
   ]
  },
  {
   "cell_type": "markdown",
   "metadata": {},
   "source": [
    "## Ejercicio 1. Funciones binarias y algoritmo de Deutsch-Jozsa\n",
    "Considera el siguiente oráculo para el algoritmo de Deutsch-Jozsa:\n",
    "\n",
    "![](https://drive.google.com/uc?export=view&id=1W5qXCPDDWZtbLgOIeguxS-BhJTbNKCf6)"
   ]
  },
  {
   "cell_type": "markdown",
   "metadata": {},
   "source": [
    "**1.1. (3 puntos)** Determina el conjunto de salida y el conjunto de llegada para la función codificada mediante el circuito dado arriba. Es decir, $f$ es una función $f: A \\longrightarrow B$, ¿qué es $A$ y qué es $B$?"
   ]
  },
  {
   "cell_type": "markdown",
   "metadata": {},
   "source": []
  },
  {
   "cell_type": "markdown",
   "metadata": {},
   "source": [
    "**1.2. (5 puntos)** Si dentro de la compuerta ```Oráculo Deutsch-Jozsa``` se encuentra el circuito dado arriba, explica qué hace el siguiente circuito. Ejecútalo e interpreta el output que te da.\n",
    "\n",
    "![](https://drive.google.com/uc?export=view&id=1dGyeLOHQZyBOBUyHUk1yNZbHliw49JE1)"
   ]
  },
  {
   "cell_type": "markdown",
   "metadata": {},
   "source": []
  },
  {
   "cell_type": "markdown",
   "metadata": {},
   "source": [
    "**1.3. (7 puntos)** Construye el circuito correspondiente al algoritmo de Deutsch-Jozsa que tenga como oráculo el descrito arriba y dibújalo. Ejecuta tu circuito e interpreta el output que te da el algoritmo. "
   ]
  },
  {
   "cell_type": "markdown",
   "metadata": {},
   "source": []
  },
  {
   "cell_type": "markdown",
   "metadata": {},
   "source": [
    "**1.4. (5 puntos)** Explica para qué sirve el algoritmo cuántico de Deutsch-Jozsa y en qué sentido es mejor que una aproximación clásica a la resolución del mismo problema."
   ]
  },
  {
   "cell_type": "markdown",
   "metadata": {},
   "source": []
  },
  {
   "cell_type": "markdown",
   "metadata": {},
   "source": [
    "## Ejercicio 2. Teletransportación\n",
    "Considera el estado:\n",
    "\n",
    "$$|-\\rangle = \\frac{1}{\\sqrt{2}}(|0\\rangle - |1\\rangle)$$ "
   ]
  },
  {
   "cell_type": "markdown",
   "metadata": {},
   "source": [
    "**2.1. (5 puntos)** Crea el circuito que teletransporte el estado dado arriba desde el alambre superior al alambre inferior. https://qiskit.org/textbook/ch-algorithms/teleportation.html"
   ]
  },
  {
   "cell_type": "markdown",
   "metadata": {},
   "source": []
  },
  {
   "cell_type": "markdown",
   "metadata": {},
   "source": [
    "**2.2. (10 puntos)** Describe y ejecuta una prueba que demuestre que el estado recibido sí fue el estado $|-\\rangle$ y no otro estado que tenga un histograma semejante como lo podría ser el estado $|+\\rangle$."
   ]
  },
  {
   "cell_type": "markdown",
   "metadata": {},
   "source": []
  },
  {
   "cell_type": "markdown",
   "metadata": {},
   "source": [
    "## Ejercicio 3. Vector de estado\n",
    "Hemos empleado el álgebra lineal y el cálculo de los vectores de estado para demostrar formalmente la validez del algoritmo de Deutsch. En este ejercicio calcularás el vector de estado para un circuito particular.\n",
    "\n",
    "Considera el siguiente circuito: \n",
    "![](https://drive.google.com/uc?export=view&id=1_1_u2VnUklp4gK_cs250PDzxisEfb-zq)"
   ]
  },
  {
   "cell_type": "markdown",
   "metadata": {},
   "source": [
    "**3.1. (15 puntos)** Calcula el vector de estado final del sistema usando álgebra lineal o Qiskit e interpreta tu resultado."
   ]
  },
  {
   "cell_type": "markdown",
   "metadata": {},
   "source": [
    "## Ejercicio 4. Funciones binarias periódicas\n",
    "Las funciones periódicas son el objeto de análisis dentro del problema y el algoritmo de Simon. En los ejercicios que se dan a continuación tendrás la oportunidad de poner a prueba tus conocimientos sobre este tipo de funciones."
   ]
  },
  {
   "cell_type": "markdown",
   "metadata": {},
   "source": [
    "**4.1. (7 puntos)** Construye una función periódica $f: \\{0, 1\\}^4 \\longrightarrow \\{0, 1\\}^4$ con periodo $\\mathbf{c} = 1011$."
   ]
  },
  {
   "cell_type": "markdown",
   "metadata": {},
   "source": []
  },
  {
   "cell_type": "markdown",
   "metadata": {},
   "source": [
    "**4.2. (3 puntos)** Considera la función periódica $f: \\{0, 1\\}^6 \\longrightarrow \\{0, 1\\}^6$. Si se sabe que \n",
    "\n",
    "$$f(011011) = 001100$$\n",
    "\n",
    "y\n",
    "\n",
    "$$f(101001) = 001100$$\n",
    "\n",
    "Determina el periodo $\\mathbf{c}$."
   ]
  },
  {
   "cell_type": "markdown",
   "metadata": {},
   "source": []
  },
  {
   "cell_type": "markdown",
   "metadata": {},
   "source": [
    "## Ejercicio 5. Oráculo y algoritmo de Simon\n",
    "En este ejercicio debes analizar un oráculo desde el punto de vista computacional clásico y también desde el punto de vista computacional cuántico. Para esto debes tener en cuenta el siguiente circuito que corresponde a lo que se encuentra en el interior del oráculo en el contexto del problema y el algoritmo de Simon:\n",
    "\n",
    "![](https://drive.google.com/uc?export=view&id=1Z_aKu_rLFHFoHNdauMnW29odgnC9OqvW)"
   ]
  },
  {
   "cell_type": "markdown",
   "metadata": {},
   "source": [
    "**5.1. (3 puntos)** Determina el conjunto de salida y el conjunto de llegada de la función codificada en el circuito dado arriba."
   ]
  },
  {
   "cell_type": "markdown",
   "metadata": {},
   "source": []
  },
  {
   "cell_type": "markdown",
   "metadata": {},
   "source": [
    "**5.2. (10 puntos)** Tabula completamente, de manera clásica, la función que se encuentra dentro del oráculo."
   ]
  },
  {
   "cell_type": "markdown",
   "metadata": {},
   "source": []
  },
  {
   "cell_type": "markdown",
   "metadata": {},
   "source": [
    "**5.3. (2 puntos)** Usa tu resultado del punto anterior para determinar el periodo $\\mathbf{c}$ de la función."
   ]
  },
  {
   "cell_type": "markdown",
   "metadata": {},
   "source": []
  },
  {
   "cell_type": "markdown",
   "metadata": {},
   "source": [
    "**5.4. (5 puntos)** Construye el circuito correspondiente al algoritmo de Simon que contenga el oráculo descrito arriba y dibújalo."
   ]
  },
  {
   "cell_type": "markdown",
   "metadata": {},
   "source": []
  },
  {
   "cell_type": "markdown",
   "metadata": {},
   "source": [
    "**5.5. (10 puntos)** Usa el circuito del punto anterior para determinar, desde el punto de vista de la computación cuántica, el periodo de la función que se encuentra dentro del oráculo. Puedes suponer que el periodo no es la cadena formada por sólo ceros."
   ]
  },
  {
   "cell_type": "markdown",
   "metadata": {},
   "source": []
  }
 ],
 "metadata": {
  "kernelspec": {
   "display_name": "Python 3",
   "language": "python",
   "name": "python3"
  },
  "language_info": {
   "codemirror_mode": {
    "name": "ipython",
    "version": 3
   },
   "file_extension": ".py",
   "mimetype": "text/x-python",
   "name": "python",
   "nbconvert_exporter": "python",
   "pygments_lexer": "ipython3",
   "version": "3.8.3"
  }
 },
 "nbformat": 4,
 "nbformat_minor": 4
}
