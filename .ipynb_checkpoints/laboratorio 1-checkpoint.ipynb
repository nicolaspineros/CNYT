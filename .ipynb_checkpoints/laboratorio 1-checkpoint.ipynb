{
 "cells": [
  {
   "cell_type": "markdown",
   "metadata": {},
   "source": [
    "# Laboratorio 1. CNYT\n",
    "*Viernes 14 de agosto de 2020*\n",
    "\n",
    "**Nombre:** Nicolas Piñeros"
   ]
  },
  {
   "cell_type": "markdown",
   "metadata": {},
   "source": [
    "## Experimentos basicos en computación cuántica usando Qiskit"
   ]
  },
  {
   "cell_type": "markdown",
   "metadata": {},
   "source": [
    "### 1. Quibits, inicialización y medición"
   ]
  },
  {
   "cell_type": "code",
   "execution_count": 19,
   "metadata": {},
   "outputs": [],
   "source": [
    "# Importaciones\n",
    "from qiskit import QuantumCircuit #Clase para declarar circuitos\n",
    "from qiskit import execute #Funcion para ejecutar circuitos cuanticos de manera simulada \n",
    "                            #o en computador cuantico real\n",
    "\n",
    "from qiskit import Aer #Módulo donde podemos acceder al simulador qasm\n",
    "from qiskit.visualization import plot_histogram # Función para graficar el output como diagrama de barras\n",
    "%matplotlib inline\n",
    "# Esta último llamado me permite usar la librería mat´plotlib en el Notebook"
   ]
  },
  {
   "cell_type": "markdown",
   "metadata": {},
   "source": [
    "**1.1. Experimento:** Cuando un qubit esta inicializado en |0> el resultado de la medición debe ser, en teoria, siempre |0>(con probabilidad del 100%). 1 shot simulado"
   ]
  },
  {
   "cell_type": "code",
   "execution_count": 8,
   "metadata": {},
   "outputs": [
    {
     "data": {
      "text/plain": [
       "<qiskit.circuit.instructionset.InstructionSet at 0x172e5872b50>"
      ]
     },
     "execution_count": 8,
     "metadata": {},
     "output_type": "execute_result"
    }
   ],
   "source": [
    "# Declarar y llenar mi circuito\n",
    "circuito_11 = QuantumCircuit(1,1) # 1 alambre cuantico (qubits) un alambre clásico\n",
    "circuito_11.measure(0,0) # 0 se refiere al índice"
   ]
  },
  {
   "cell_type": "code",
   "execution_count": 9,
   "metadata": {},
   "outputs": [
    {
     "data": {
      "image/png": "[encoded data removed]",
      "text/plain": [
       "<Figure size 173.376x144.48 with 1 Axes>"
      ]
     },
     "execution_count": 9,
     "metadata": {},
     "output_type": "execute_result"
    }
   ],
   "source": [
    "# Dibujamos el circuito\n",
    "circuito_11.draw(output='mpl')"
   ]
  },
  {
   "cell_type": "code",
   "execution_count": 10,
   "metadata": {},
   "outputs": [
    {
     "name": "stdout",
     "output_type": "stream",
     "text": [
      "{'0': 1}\n"
     ]
    }
   ],
   "source": [
    "#Ejecuto la simulación\n",
    "simulador = Aer.get_backend('qasm_simulator')\n",
    "ejecucion = execute(circuito_11, backend=simulador, shots=1)\n",
    "resultado = ejecucion.result()\n",
    "conteos = resultado.get_counts()\n",
    "print(conteos)"
   ]
  },
  {
   "cell_type": "code",
   "execution_count": 11,
   "metadata": {},
   "outputs": [
    {
     "data": {
      "image/png": "[encoded data removed]",
      "text/plain": [
       "<Figure size 504x360 with 1 Axes>"
      ]
     },
     "execution_count": 11,
     "metadata": {},
     "output_type": "execute_result"
    }
   ],
   "source": [
    "plot_histogram(conteos)"
   ]
  },
  {
   "cell_type": "markdown",
   "metadata": {},
   "source": [
    "**Conclusion 1.1.**\n",
    "\n",
    "|Resultados|\n",
    "| :------- |\n",
    "|  1/1000  |\n",
    "|   100%   |\n",
    "\n",
    "no se encuentra error en la ejecución del simulador con un solo shot "
   ]
  },
  {
   "cell_type": "markdown",
   "metadata": {},
   "source": [
    "**1.2. Experimento:** Cuando un qubit esta inicializado en |0> el resultado de la medición debe ser, en teoria, siempre |0>(con probabilidad del 100%). 1000 shots simulado"
   ]
  },
  {
   "cell_type": "code",
   "execution_count": 12,
   "metadata": {},
   "outputs": [
    {
     "data": {
      "text/plain": [
       "<qiskit.circuit.instructionset.InstructionSet at 0x172e6a98760>"
      ]
     },
     "execution_count": 12,
     "metadata": {},
     "output_type": "execute_result"
    }
   ],
   "source": [
    "# Declarar y llenar mi circuito\n",
    "circuito_12 = QuantumCircuit(1,1) # 1 alambre cuantico (qubits) un alambre clásico\n",
    "circuito_12.measure(0,0) # 0 se refiere al índice"
   ]
  },
  {
   "cell_type": "code",
   "execution_count": 13,
   "metadata": {},
   "outputs": [
    {
     "data": {
      "image/png": "[encoded data removed]",
      "text/plain": [
       "<Figure size 173.376x144.48 with 1 Axes>"
      ]
     },
     "execution_count": 13,
     "metadata": {},
     "output_type": "execute_result"
    }
   ],
   "source": [
    "circuito_12.draw(output='mpl')"
   ]
  },
  {
   "cell_type": "code",
   "execution_count": 14,
   "metadata": {},
   "outputs": [
    {
     "name": "stdout",
     "output_type": "stream",
     "text": [
      "{'0': 1000}\n"
     ]
    }
   ],
   "source": [
    "#Ejecuto la simulación\n",
    "simulador = Aer.get_backend('qasm_simulator')\n",
    "ejecucion = execute(circuito_12, backend=simulador, shots=1000)\n",
    "resultado = ejecucion.result()\n",
    "conteos = resultado.get_counts()\n",
    "print(conteos)"
   ]
  },
  {
   "cell_type": "code",
   "execution_count": 15,
   "metadata": {},
   "outputs": [
    {
     "data": {
      "image/png": "[encoded data removed]",
      "text/plain": [
       "<Figure size 504x360 with 1 Axes>"
      ]
     },
     "execution_count": 15,
     "metadata": {},
     "output_type": "execute_result"
    }
   ],
   "source": [
    "plot_histogram(conteos)"
   ]
  },
  {
   "cell_type": "markdown",
   "metadata": {},
   "source": [
    "**Conclusion 1.2.**\n",
    "\n",
    "Mediante el circuto con un alambre clasico se encontro:\n",
    "\n",
    "| Resultados |\n",
    "| :--------- |\n",
    "| 1000/1000  |\n",
    "\n",
    "Ejecutando con 1000 shots en el simulador no percibimos errores de ningun porcentaje para 0"
   ]
  },
  {
   "cell_type": "markdown",
   "metadata": {},
   "source": [
    "**1.3. Experimento:** Cuando un qubit esta inicializado en $|0>\\rangle$ el resultado de la medición debe ser, en teoria, siempre $|0>\\rangle$(con probabilidad del 100%). 1000 shots en computador cuantico real"
   ]
  },
  {
   "cell_type": "code",
   "execution_count": 26,
   "metadata": {},
   "outputs": [
    {
     "name": "stderr",
     "output_type": "stream",
     "text": [
      "ibmqfactory.load_account:WARNING:2020-08-21 14:39:37,566: Credentials are already in use. The existing account in the session will be replaced.\n"
     ]
    },
    {
     "data": {
      "text/plain": [
       "<AccountProvider for IBMQ(hub='ibm-q', group='open', project='main')>"
      ]
     },
     "execution_count": 26,
     "metadata": {},
     "output_type": "execute_result"
    }
   ],
   "source": [
    "from qiskit import IBMQ\n",
    "IBMQ.load_account()"
   ]
  },
  {
   "cell_type": "code",
   "execution_count": 27,
   "metadata": {},
   "outputs": [
    {
     "name": "stdout",
     "output_type": "stream",
     "text": [
      "Job Status: job has successfully run\n",
      "{'0': 973, '1': 27}\n"
     ]
    }
   ],
   "source": [
    "#Ejecución en un computador cuantico real\n",
    "proveedor = IBMQ.get_provider('ibm-q')\n",
    "comp_cuantico = proveedor.get_backend('ibmq_burlington')\n",
    "ejecucion = execute(circuito_12, backend=comp_cuantico,shots=1000)\n",
    "\n",
    "from qiskit.tools.monitor import job_monitor\n",
    "\n",
    "job_monitor(ejecucion)\n",
    "\n",
    "resultado = ejecucion.result()\n",
    "conteos = resultado.get_counts()\n",
    "print(conteos)"
   ]
  },
  {
   "cell_type": "code",
   "execution_count": 20,
   "metadata": {},
   "outputs": [
    {
     "data": {
      "image/png": "[encoded data removed]",
      "text/plain": [
       "<Figure size 504x360 with 1 Axes>"
      ]
     },
     "execution_count": 20,
     "metadata": {},
     "output_type": "execute_result"
    }
   ],
   "source": [
    "plot_histogram(conteos)"
   ]
  },
  {
   "cell_type": "markdown",
   "metadata": {},
   "source": [
    "**Conclusion 1.3.**\n",
    "Se realizo el proceso usando un qubit esta inicializado en $|0>\\rangle$ el resultado de la medición debe ser, en teoria, siempre $|0>\\rangle$(con probabilidad del 100%). 1000 shots en computador cuantico real, mas sin embargo se encontro que:\n",
    "\n",
    "| Resultados correctos | Resultados incorrectos |\n",
    "| ---------------------| ---------------------- |\n",
    "| (estado 0  )         | (estado 1)             |\n",
    "|     987/1000         |       13/1000          |\n",
    "|      99%             |         1%             |\n",
    "\n",
    "teniendo un error no muy notorio del 1% ya que el computador cuantico real es susceptible al rúido y a errors de medición. por lo que ya no se tiene la misma precision que se conto en el experimento **1.3 **"
   ]
  },
  {
   "cell_type": "markdown",
   "metadata": {},
   "source": [
    "**1.4. Experimento:** Cuando un qubit esta inicializado en $|1>\\rangle$ el resultado de la medición debe ser, en teoria, siempre $|1>\\rangle$(con probabilidad del 100%). 1000 shots en computador cuantico real"
   ]
  },
  {
   "cell_type": "code",
   "execution_count": 29,
   "metadata": {},
   "outputs": [
    {
     "data": {
      "text/plain": [
       "<qiskit.circuit.instructionset.InstructionSet at 0x172e6c44dc0>"
      ]
     },
     "execution_count": 29,
     "metadata": {},
     "output_type": "execute_result"
    }
   ],
   "source": [
    "circuito_14 = QuantumCircuit(1,1)\n",
    "circuito_14.x(0)\n",
    "circuito_14.measure(0,0)"
   ]
  },
  {
   "cell_type": "code",
   "execution_count": 22,
   "metadata": {},
   "outputs": [
    {
     "data": {
      "image/png": "[encoded data removed]",
      "text/plain": [
       "<Figure size 233.576x144.48 with 1 Axes>"
      ]
     },
     "execution_count": 22,
     "metadata": {},
     "output_type": "execute_result"
    }
   ],
   "source": [
    "circuito_14.draw(output='mpl')"
   ]
  },
  {
   "cell_type": "code",
   "execution_count": 30,
   "metadata": {},
   "outputs": [
    {
     "name": "stdout",
     "output_type": "stream",
     "text": [
      "Job Status: job has successfully run\n",
      "{'0': 71, '1': 929}\n"
     ]
    }
   ],
   "source": [
    "ejecucion = execute(circuito_14, backend=comp_cuantico,shots=1000)\n",
    "\n",
    "from qiskit.tools.monitor import job_monitor\n",
    "\n",
    "job_monitor(ejecucion)\n",
    "\n",
    "resultado = ejecucion.result()\n",
    "conteos = resultado.get_counts()\n",
    "print(conteos)"
   ]
  },
  {
   "cell_type": "markdown",
   "metadata": {},
   "source": [
    "**Conclusion 1.4.**\n",
    "Se realizo el proceso usando un qubit esta inicializado en $|1>\\rangle$ el resultado de la medición debe ser, en teoria, siempre $|1>\\rangle$(con probabilidad del 100%). 1000 shots en computador cuantico real, mas sin embargo se encontro que:\n",
    "\n",
    "| Resultados correctos | Resultados incorrectos |\n",
    "| ---------------------| ---------------------- |\n",
    "| (estado 0  )         | (estado 1)             |\n",
    "|     987/1000         |       13/1000          |\n",
    "|      99%             |         1%             |\n",
    "\n",
    "teniendo un error no muy notorio del 1% ya que el computador cuantico real es susceptible al rúido y a errors de medición. por lo que ya no se tiene la misma precision"
   ]
  },
  {
   "cell_type": "markdown",
   "metadata": {},
   "source": [
    "**1.5. Experimento:** Cuando un qubit esta inicializado en $|1>\\rangle$ el resultado de la medición debe ser, en teoria, siempre $|1>\\rangle$(con probabilidad del 100%). 1000 shots en computador cuantico real"
   ]
  },
  {
   "cell_type": "code",
   "execution_count": 44,
   "metadata": {},
   "outputs": [
    {
     "data": {
      "text/plain": [
       "<qiskit.circuit.instructionset.InstructionSet at 0x172e6e4efd0>"
      ]
     },
     "execution_count": 44,
     "metadata": {},
     "output_type": "execute_result"
    }
   ],
   "source": [
    "circuito_15 = QuantumCircuit(1,1)\n",
    "circuito_15.x(0)\n",
    "circuito_15.measure(0,0)"
   ]
  },
  {
   "cell_type": "code",
   "execution_count": 45,
   "metadata": {},
   "outputs": [
    {
     "ename": "NameError",
     "evalue": "name 'circuit_15' is not defined",
     "output_type": "error",
     "traceback": [
      "\u001b[1;31m---------------------------------------------------------------------------\u001b[0m",
      "\u001b[1;31mNameError\u001b[0m                                 Traceback (most recent call last)",
      "\u001b[1;32m<ipython-input-45-e81a1f9ba76e>\u001b[0m in \u001b[0;36m<module>\u001b[1;34m\u001b[0m\n\u001b[1;32m----> 1\u001b[1;33m \u001b[0mcircuit_15\u001b[0m\u001b[1;33m.\u001b[0m\u001b[0mdraw\u001b[0m\u001b[1;33m(\u001b[0m\u001b[0mouyput\u001b[0m\u001b[1;33m=\u001b[0m\u001b[1;34m'mpl'\u001b[0m\u001b[1;33m)\u001b[0m\u001b[1;33m\u001b[0m\u001b[1;33m\u001b[0m\u001b[0m\n\u001b[0m",
      "\u001b[1;31mNameError\u001b[0m: name 'circuit_15' is not defined"
     ]
    }
   ],
   "source": [
    "circuit_15.draw(ouyput='mpl')"
   ]
  },
  {
   "cell_type": "code",
   "execution_count": 46,
   "metadata": {},
   "outputs": [
    {
     "name": "stdout",
     "output_type": "stream",
     "text": [
      "{'1': 1000}\n"
     ]
    }
   ],
   "source": [
    "simulador = Aer.get_backend('qasm_simulator')\n",
    "ejecucion = execute(circuito_15, backend = simulador, shots = 1000)\n",
    "resultado = ejecucion.result()\n",
    "conteos = resultado.get_counts()\n",
    "print(conteos)"
   ]
  },
  {
   "cell_type": "code",
   "execution_count": 47,
   "metadata": {},
   "outputs": [
    {
     "data": {
      "image/png": "[encoded data removed]",
      "text/plain": [
       "<Figure size 504x360 with 1 Axes>"
      ]
     },
     "execution_count": 47,
     "metadata": {},
     "output_type": "execute_result"
    }
   ],
   "source": [
    "plot_histogram(conteos)"
   ]
  },
  {
   "cell_type": "markdown",
   "metadata": {},
   "source": [
    "**Conclusion 1.5**\n",
    "para la medida en el simulador Cuando un qubit esta inicializado en $|1>\\rangle$ el resultado de la medición debe ser, en teoria, siempre $|1>\\rangle$(con probabilidad del 100%). 1000 shots en computador cuantico real, se econtro que:\n",
    "\n",
    "| Resultados |\n",
    "| :--------- |\n",
    "| 1000/1000  |\n",
    "\n",
    "Ejecutando con 1000 shots en el simulador no percibimos errores de ningun porcentaje para el estado 1"
   ]
  },
  {
   "cell_type": "markdown",
   "metadata": {},
   "source": [
    "**1.6. Experimento:** Cuando un qubit esta inicializado en $|1>\\rangle$ el resultado de la medición debe ser, en teoria, siempre $|1>\\rangle$(con probabilidad del 100%). 1000 shots en computador cuantico real"
   ]
  },
  {
   "cell_type": "code",
   "execution_count": 35,
   "metadata": {},
   "outputs": [
    {
     "data": {
      "text/plain": [
       "<qiskit.circuit.instructionset.InstructionSet at 0x172e6cd8bb0>"
      ]
     },
     "execution_count": 35,
     "metadata": {},
     "output_type": "execute_result"
    }
   ],
   "source": [
    "circuito_16 = QuantumCircuit(1,1)\n",
    "circuito_16.x(0)\n",
    "circuito_16.measure(0, 0)"
   ]
  },
  {
   "cell_type": "code",
   "execution_count": 36,
   "metadata": {},
   "outputs": [
    {
     "data": {
      "image/png": "[encoded data removed]",
      "text/plain": [
       "<Figure size 233.576x144.48 with 1 Axes>"
      ]
     },
     "execution_count": 36,
     "metadata": {},
     "output_type": "execute_result"
    }
   ],
   "source": [
    "circuito_16.draw(output = 'mpl')"
   ]
  },
  {
   "cell_type": "code",
   "execution_count": 41,
   "metadata": {},
   "outputs": [
    {
     "name": "stdout",
     "output_type": "stream",
     "text": [
      "Job Status: job has successfully run\n",
      "{'0': 71, '1': 929}\n"
     ]
    }
   ],
   "source": [
    "#Ejecución en un computador cuantico real\n",
    "proveedor = IBMQ.get_provider('ibm-q')\n",
    "comp_cuantico = proveedor.get_backend('ibmq_london')\n",
    "ejecucion = execute(circuito_16, backend=comp_cuantico,shots=1000)\n",
    "\n",
    "from qiskit.tools.monitor import job_monitor\n",
    "\n",
    "job_monitor(ejecucion)\n",
    "\n",
    "resultado = ejecucion.result()\n",
    "conteos = resultado.get_counts()\n",
    "print(conteos)"
   ]
  },
  {
   "cell_type": "code",
   "execution_count": 43,
   "metadata": {},
   "outputs": [
    {
     "data": {
      "image/png": "[encoded data removed]",
      "text/plain": [
       "<Figure size 504x360 with 1 Axes>"
      ]
     },
     "execution_count": 43,
     "metadata": {},
     "output_type": "execute_result"
    }
   ],
   "source": [
    "plot_histogram(conteos)"
   ]
  },
  {
   "cell_type": "markdown",
   "metadata": {},
   "source": [
    "**Conclusion 1.6**\n",
    "A partir de la medicion de Cuando un qubit esta inicializado en $|1>\\rangle$ el resultado de la medición debe ser, en teoria, siempre $|1>\\rangle$(con probabilidad del 100%). 1000 shots en computador cuantico real se encontro que\n",
    "\n",
    "| Resultados correctos | Resultados incorrectos |\n",
    "| ---------------------| ---------------------- |\n",
    "| (estado 1  )         |   (estado 0)           |\n",
    "|     929/1000         |       71/1000          |\n",
    "|      92,9%           |         7,1%           |\n",
    "\n",
    "teniendo un error del 7,1% ya que se esperaba que para los 1000 shots el resultado fuera 100% 1 y no 92,2% como lo fue, esto ya que el computador cuantico real es susceptible al rúido y a errors de medición. por lo que ya no se tiene la misma precision. lo que demarca una gran diferencia con la exactitud en simulador del experimento 1.5."
   ]
  },
  {
   "cell_type": "markdown",
   "metadata": {},
   "source": [
    "**1.7. Experimento:** Cuando un qubit está inicializado en una superposición de los estados $|0\\rangle$ y $|1\\rangle$ (se logra aplicando la compuerta **H** al estado $|0\\rangle$) dada por:\n",
    "\n",
    "$$|\\psi\\rangle = \\frac{1}{\\sqrt{2}} |0\\rangle + \\frac{1}{\\sqrt{2}} |1\\rangle$$\n",
    "\n",
    "El resultado de la medición debe ser o $|0\\rangle$ con probabilidad del 50% o $|1\\rangle$ con probabilidad del 50%. 1 shot en un simulador."
   ]
  },
  {
   "cell_type": "code",
   "execution_count": 31,
   "metadata": {},
   "outputs": [
    {
     "data": {
      "text/plain": [
       "<qiskit.circuit.instructionset.InstructionSet at 0x1ac67e243d0>"
      ]
     },
     "execution_count": 31,
     "metadata": {},
     "output_type": "execute_result"
    }
   ],
   "source": [
    "circuito_17 = QuantumCircuit(1,1)\n",
    "circuito_17.h(0)\n",
    "circuito_17.measure(0,0)"
   ]
  },
  {
   "cell_type": "code",
   "execution_count": 32,
   "metadata": {},
   "outputs": [
    {
     "data": {
      "image/png": "[encoded data removed]",
      "text/plain": [
       "<Figure size 233.576x144.48 with 1 Axes>"
      ]
     },
     "execution_count": 32,
     "metadata": {},
     "output_type": "execute_result"
    }
   ],
   "source": [
    "#Dibujamos el circuito\n",
    "circuito_17.draw(output='mpl')"
   ]
  },
  {
   "cell_type": "code",
   "execution_count": 39,
   "metadata": {},
   "outputs": [
    {
     "name": "stdout",
     "output_type": "stream",
     "text": [
      "Job Status: job has successfully run\n",
      "{'0': 500, '1': 500}\n"
     ]
    }
   ],
   "source": [
    "ejecucion = execute(circuito_17, backend=comp_cuantico,shots=1000)\n",
    "\n",
    "from qiskit.tools.monitor import job_monitor\n",
    "\n",
    "job_monitor(ejecucion)\n",
    "\n",
    "resultado = ejecucion.result()\n",
    "conteos = resultado.get_counts()\n",
    "print(conteos)"
   ]
  },
  {
   "cell_type": "code",
   "execution_count": 34,
   "metadata": {},
   "outputs": [
    {
     "data": {
      "image/png": "[encoded data removed]",
      "text/plain": [
       "<Figure size 504x360 with 1 Axes>"
      ]
     },
     "execution_count": 34,
     "metadata": {},
     "output_type": "execute_result"
    }
   ],
   "source": [
    "plot_histogram(conteos)"
   ]
  },
  {
   "cell_type": "markdown",
   "metadata": {},
   "source": [
    "**Conclusion 1.7** \n",
    "Con la medicion Cuando un qubit está inicializado en una superposición de los estados $|0\\rangle$ y $|1\\rangle$ (se logra aplicando la compuerta **H** al estado $|0\\rangle$) dada por:\n",
    "\n",
    "$$|\\psi\\rangle = \\frac{1}{\\sqrt{2}} |0\\rangle + \\frac{1}{\\sqrt{2}} |1\\rangle$$\n",
    "\n",
    "El resultado de la medición debe ser o $|0\\rangle$ con probabilidad del 50% o $|1\\rangle$ con probabilidad del 50%. 1 shot en un simulador. mas sin embargo encontramos que:\n",
    "\n",
    "|      Resultados 0    |      Resultados 1     |\n",
    "| :---------           |             --------: |\n",
    "|       473/1000       |        527/1000       |\n",
    "|         47,3%        |          52,7%        |\n",
    "\n",
    "teniendo un error de 2,7% para 0, esto debido al ruido electromagnetico o un error de la medida al ser un computador cuantico pues los datos de enclinan mas a 1 que a 0 y no en una proporcio 50 - 50 como se planteaba para 1 shot\n"
   ]
  },
  {
   "cell_type": "markdown",
   "metadata": {},
   "source": [
    "**Experimento 1.8.** 1000 shots con base a el experiemento 1.7 "
   ]
  },
  {
   "cell_type": "code",
   "execution_count": 31,
   "metadata": {},
   "outputs": [
    {
     "data": {
      "text/plain": [
       "<qiskit.circuit.instructionset.InstructionSet at 0x172e6c44490>"
      ]
     },
     "execution_count": 31,
     "metadata": {},
     "output_type": "execute_result"
    }
   ],
   "source": [
    "circuito_18 = QuantumCircuit(1,1)\n",
    "circuito_18 .h(0)\n",
    "circuito_18.measure(0,0)"
   ]
  },
  {
   "cell_type": "code",
   "execution_count": 33,
   "metadata": {},
   "outputs": [
    {
     "name": "stdout",
     "output_type": "stream",
     "text": [
      "{'0': 512, '1': 488}\n"
     ]
    }
   ],
   "source": [
    "simulador = Aer.get_backend('qasm_simulator')\n",
    "ejecucion = execute(circuito_18, backend = simulador, shots = 1000)\n",
    "resultado = ejecucion.result()\n",
    "conteos = resultado.get_counts()\n",
    "print(conteos)"
   ]
  },
  {
   "cell_type": "code",
   "execution_count": 34,
   "metadata": {},
   "outputs": [
    {
     "data": {
      "image/png": "[encoded data removed]",
      "text/plain": [
       "<Figure size 504x360 with 1 Axes>"
      ]
     },
     "execution_count": 34,
     "metadata": {},
     "output_type": "execute_result"
    }
   ],
   "source": [
    "plot_histogram(conteos)"
   ]
  },
  {
   "cell_type": "markdown",
   "metadata": {},
   "source": [
    "**Conclusion 1.8.**\n",
    "Con la medicion Cuando un qubit está inicializado en una superposición de los estados $|0\\rangle$ y $|1\\rangle$ (se logra aplicando la compuerta **H** al estado $|0\\rangle$) dada por:\n",
    "\n",
    "$$|\\psi\\rangle = \\frac{1}{\\sqrt{2}} |0\\rangle + \\frac{1}{\\sqrt{2}} |1\\rangle$$\n",
    "\n",
    "El resultado de la medición debe ser o $|0\\rangle$ con probabilidad del 50% o $|1\\rangle$ con probabilidad del 50%. 1000 shots en un simulador. mas sin embargo encontramos que:\n",
    "\n",
    "| Resultados estado 0  | Resultados estado 1    |\n",
    "| ---------------------| ---------------------- |\n",
    "|     512/1000         |       488/1000         |\n",
    "|      51,2%           |      48,8%             |\n",
    "\n",
    "teniendo un error de 1,2% para 1, esto debido al ruido electromagnetico o un error de la medida al ser un computador cuantico pues los datos de enclinan mas a 0 que a 1 en esta mediad y no en una proporcio 50 - 50 como se planteaba para 1000 shots"
   ]
  },
  {
   "cell_type": "markdown",
   "metadata": {},
   "source": [
    "**Experimento 1.9.**"
   ]
  },
  {
   "cell_type": "code",
   "execution_count": 38,
   "metadata": {},
   "outputs": [
    {
     "data": {
      "text/plain": [
       "<qiskit.circuit.instructionset.InstructionSet at 0x172e6d6c430>"
      ]
     },
     "execution_count": 38,
     "metadata": {},
     "output_type": "execute_result"
    }
   ],
   "source": [
    "circuito_19 = QuantumCircuit(1,1)\n",
    "circuito_19.h(0)\n",
    "circuito_19.measure(0,0)"
   ]
  },
  {
   "cell_type": "code",
   "execution_count": 39,
   "metadata": {},
   "outputs": [
    {
     "data": {
      "image/png": "[encoded data removed]",
      "text/plain": [
       "<Figure size 233.576x144.48 with 1 Axes>"
      ]
     },
     "execution_count": 39,
     "metadata": {},
     "output_type": "execute_result"
    }
   ],
   "source": [
    "circuito_19.draw(output ='mpl')"
   ]
  },
  {
   "cell_type": "code",
   "execution_count": 40,
   "metadata": {},
   "outputs": [
    {
     "name": "stdout",
     "output_type": "stream",
     "text": [
      "Job Status: job has successfully run\n",
      "{'0': 510, '1': 490}\n"
     ]
    }
   ],
   "source": [
    "#Ejecución en un computador cuantico real\n",
    "proveedor = IBMQ.get_provider('ibm-q')\n",
    "comp_cuantico = proveedor.get_backend('ibmq_london')\n",
    "ejecucion = execute(circuito_19, backend=comp_cuantico,shots=1000)\n",
    "\n",
    "from qiskit.tools.monitor import job_monitor\n",
    "\n",
    "job_monitor(ejecucion)\n",
    "\n",
    "resultado = ejecucion.result()\n",
    "conteos = resultado.get_counts()\n",
    "print(conteos)"
   ]
  },
  {
   "cell_type": "code",
   "execution_count": 42,
   "metadata": {},
   "outputs": [
    {
     "data": {
      "image/png": "[encoded data removed]",
      "text/plain": [
       "<Figure size 504x360 with 1 Axes>"
      ]
     },
     "execution_count": 42,
     "metadata": {},
     "output_type": "execute_result"
    }
   ],
   "source": [
    "plot_histogram(conteos)"
   ]
  },
  {
   "cell_type": "markdown",
   "metadata": {},
   "source": [
    "# 2. Suma cuántica\n",
    "*El siguiente circuito nos permite calcular el resultado de la suma 1 + 1 usando un computador cuántico*"
   ]
  },
  {
   "cell_type": "code",
   "execution_count": 1,
   "metadata": {},
   "outputs": [
    {
     "ename": "NameError",
     "evalue": "name 'QuantumCircuit' is not defined",
     "output_type": "error",
     "traceback": [
      "\u001b[1;31m---------------------------------------------------------------------------\u001b[0m",
      "\u001b[1;31mNameError\u001b[0m                                 Traceback (most recent call last)",
      "\u001b[1;32m<ipython-input-1-e1ee643ec912>\u001b[0m in \u001b[0;36m<module>\u001b[1;34m\u001b[0m\n\u001b[1;32m----> 1\u001b[1;33m \u001b[0mcircuito_suma\u001b[0m \u001b[1;33m=\u001b[0m \u001b[0mQuantumCircuit\u001b[0m\u001b[1;33m(\u001b[0m\u001b[1;36m4\u001b[0m\u001b[1;33m,\u001b[0m\u001b[1;36m2\u001b[0m\u001b[1;33m)\u001b[0m\u001b[1;33m\u001b[0m\u001b[1;33m\u001b[0m\u001b[0m\n\u001b[0m\u001b[0;32m      2\u001b[0m \u001b[1;31m# inicializo num_1 = 1\u001b[0m\u001b[1;33m\u001b[0m\u001b[1;33m\u001b[0m\u001b[1;33m\u001b[0m\u001b[0m\n\u001b[0;32m      3\u001b[0m \u001b[0mcircuito_suma\u001b[0m\u001b[1;33m.\u001b[0m\u001b[0mx\u001b[0m\u001b[1;33m(\u001b[0m\u001b[1;36m0\u001b[0m\u001b[1;33m)\u001b[0m\u001b[1;33m\u001b[0m\u001b[1;33m\u001b[0m\u001b[0m\n\u001b[0;32m      4\u001b[0m \u001b[1;31m# inicializo num_2 = 1\u001b[0m\u001b[1;33m\u001b[0m\u001b[1;33m\u001b[0m\u001b[1;33m\u001b[0m\u001b[0m\n\u001b[0;32m      5\u001b[0m \u001b[0mcircuito_suma\u001b[0m\u001b[1;33m.\u001b[0m\u001b[0mx\u001b[0m\u001b[1;33m(\u001b[0m\u001b[1;36m1\u001b[0m\u001b[1;33m)\u001b[0m\u001b[1;33m\u001b[0m\u001b[1;33m\u001b[0m\u001b[0m\n",
      "\u001b[1;31mNameError\u001b[0m: name 'QuantumCircuit' is not defined"
     ]
    }
   ],
   "source": [
    "circuito_suma = QuantumCircuit(4,2)\n",
    "# inicializo num_1 = 1\n",
    "circuito_suma.x(0)\n",
    "# inicializo num_2 = 1\n",
    "circuito_suma.x(1)\n",
    "#\n",
    "circuito_suma.barrier()\n",
    "#\n",
    "circuito_suma.cx(0, 3)\n",
    "circuito_suma.cx(1, 3)\n",
    "circuito_suma.ccx(0, 1, 2)\n",
    "#\n",
    "circuito_suma.measure(2, 0)\n",
    "circuito_suma.measure(3, 1)\n",
    "#Dibujo el circuito\n",
    "circuito_suma.draw(output = 'mpl')\n"
   ]
  },
  {
   "cell_type": "code",
   "execution_count": 37,
   "metadata": {},
   "outputs": [
    {
     "name": "stdout",
     "output_type": "stream",
     "text": [
      "Job Status: job has successfully run\n",
      "{'10': 487, '00': 260, '01': 112, '11': 141}\n"
     ]
    }
   ],
   "source": [
    "ejecucion = execute(circuito_suma, backend=comp_cuantico,shots=1000)\n",
    "\n",
    "job_monitor(ejecucion)\n",
    "\n",
    "resultado = ejecucion.result()\n",
    "conteos = resultado.get_counts()\n",
    "print(conteos)"
   ]
  },
  {
   "cell_type": "code",
   "execution_count": 38,
   "metadata": {},
   "outputs": [
    {
     "data": {
      "image/png": "[encoded data removed]",
      "text/plain": [
       "<Figure size 504x360 with 1 Axes>"
      ]
     },
     "execution_count": 38,
     "metadata": {},
     "output_type": "execute_result"
    }
   ],
   "source": [
    "plot_histogram(conteos)"
   ]
  },
  {
   "cell_type": "markdown",
   "metadata": {},
   "source": [
    "**Conclusion Suma cuántica** \n",
    "Se presento un circuito para determinar la suma de 1+1 usando un computador cuantico \n",
    "\n",
    "nos encontramos con que: \n",
    "\n",
    "| Resultados           | Resultados             |       Resultados     |       Resultados       |\n",
    "| ---------------------| ---------------------- | ---------------------| ---------------------- |\n",
    "| (estado 00 )         | (estado 01)            | (estado 10 )         | (estado 11)            |\n",
    "|     260/1000         |      112/1000          |     487/1000         |      141/1000          |\n",
    "|      26%             |       11,2%            |     48,7%            |         14,1%          |\n",
    "\n",
    "podemos ver que ay un cambio evidente en cada uno de los estados para los cuales la posibilidad mas alta recae en el estado (0,0) pero que no tiene un valor absoluto debido al ruido electromagnetico que sufre la computadora cuantica real"
   ]
  },
  {
   "cell_type": "code",
   "execution_count": null,
   "metadata": {},
   "outputs": [],
   "source": []
  }
 ],
 "metadata": {
  "kernelspec": {
   "display_name": "Python 3",
   "language": "python",
   "name": "python3"
  },
  "language_info": {
   "codemirror_mode": {
    "name": "ipython",
    "version": 3
   },
   "file_extension": ".py",
   "mimetype": "text/x-python",
   "name": "python",
   "nbconvert_exporter": "python",
   "pygments_lexer": "ipython3",
   "version": "3.8.3"
  }
 },
 "nbformat": 4,
 "nbformat_minor": 4
}
