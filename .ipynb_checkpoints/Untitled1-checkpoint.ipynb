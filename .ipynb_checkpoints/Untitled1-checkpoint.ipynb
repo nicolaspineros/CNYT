{
 "cells": [
  {
   "cell_type": "markdown",
   "metadata": {},
   "source": [
    "# Laboratorio 1. CNYT\n",
    "*Viernes 14 de agosto de 2020*\n",
    "\n",
    "**Nombre:** Nicolas Piñeros"
   ]
  },
  {
   "cell_type": "markdown",
   "metadata": {},
   "source": [
    "## Experimentos basicos en computación cuántica usando Qiskit"
   ]
  },
  {
   "cell_type": "markdown",
   "metadata": {},
   "source": [
    "### 1. Quibits, inicialización y medición"
   ]
  },
  {
   "cell_type": "code",
   "execution_count": 6,
   "metadata": {},
   "outputs": [],
   "source": [
    "# Importaciones\n",
    "from qiskit import QuantumCircuit #Clase para declarar circuitos\n",
    "from qiskit import execute #Funcion para ejecutar circuitos cuanticos de manera simulada \n",
    "                            #o en computador cuantico real\n",
    "\n",
    "from qiskit import Aer #Módulo donde podemos acceder al simulador qasm\n",
    "from qiskit.visualization import plot_histogram # Función para graficar el output como diagrama de barras\n",
    "%matplotlib inline\n",
    "# Esta último llamado me permite usar la librería mat´plotlib en el Notebook"
   ]
  },
  {
   "cell_type": "markdown",
   "metadata": {},
   "source": [
    "**1.1. Experimento:** Cuando un qubit esta inicializado en |0> el resultado de la medición debe ser, en teoria, siempre |0>(con probabilidad del 100%). 1 shot simulado"
   ]
  },
  {
   "cell_type": "code",
   "execution_count": 4,
   "metadata": {},
   "outputs": [
    {
     "data": {
      "text/plain": [
       "<qiskit.circuit.instructionset.InstructionSet at 0x1ac67a7ccd0>"
      ]
     },
     "execution_count": 4,
     "metadata": {},
     "output_type": "execute_result"
    }
   ],
   "source": [
    "# Declarar y llenar mi circuito\n",
    "circuito_11 = QuantumCircuit(1,1) # 1 alambre cuantico (qubits) un alambre clásico\n",
    "circuito_11.measure(0,0) # 0 se refiere al índice"
   ]
  },
  {
   "cell_type": "code",
   "execution_count": 7,
   "metadata": {},
   "outputs": [
    {
     "data": {
      "image/png": "[encoded data removed]",
      "text/plain": [
       "<Figure size 173.376x144.48 with 1 Axes>"
      ]
     },
     "execution_count": 7,
     "metadata": {},
     "output_type": "execute_result"
    }
   ],
   "source": [
    "# Dibujamos el circuito\n",
    "circuito_11.draw(output='mpl')"
   ]
  },
  {
   "cell_type": "code",
   "execution_count": 8,
   "metadata": {},
   "outputs": [
    {
     "name": "stdout",
     "output_type": "stream",
     "text": [
      "{'0': 1}\n"
     ]
    }
   ],
   "source": [
    "#Ejecuto la simulación\n",
    "simulador = Aer.get_backend('qasm_simulator')\n",
    "ejecucion = execute(circuito_11, backend=simulador, shots=1)\n",
    "resultado = ejecucion.result()\n",
    "conteos = resultado.get_counts()\n",
    "print(conteos)"
   ]
  },
  {
   "cell_type": "code",
   "execution_count": 9,
   "metadata": {},
   "outputs": [
    {
     "data": {
      "image/png": "[encoded data removed]",
      "text/plain": [
       "<Figure size 504x360 with 1 Axes>"
      ]
     },
     "execution_count": 9,
     "metadata": {},
     "output_type": "execute_result"
    }
   ],
   "source": [
    "plot_histogram(conteos)"
   ]
  },
  {
   "cell_type": "code",
   "execution_count": null,
   "metadata": {},
   "outputs": [],
   "source": []
  },
  {
   "cell_type": "markdown",
   "metadata": {},
   "source": [
    "**1.2. Experimento:** Cuando un qubit esta inicializado en |0> el resultado de la medición debe ser, en teoria, siempre |0>(con probabilidad del 100%). 1000 shots simulado"
   ]
  },
  {
   "cell_type": "code",
   "execution_count": 10,
   "metadata": {},
   "outputs": [
    {
     "data": {
      "text/plain": [
       "<qiskit.circuit.instructionset.InstructionSet at 0x1ac67a0ea60>"
      ]
     },
     "execution_count": 10,
     "metadata": {},
     "output_type": "execute_result"
    }
   ],
   "source": [
    "# Declarar y llenar mi circuito\n",
    "circuito_12 = QuantumCircuit(1,1) # 1 alambre cuantico (qubits) un alambre clásico\n",
    "circuito_12.measure(0,0) # 0 se refiere al índice"
   ]
  },
  {
   "cell_type": "code",
   "execution_count": 11,
   "metadata": {},
   "outputs": [
    {
     "data": {
      "image/png": "[encoded data removed]",
      "text/plain": [
       "<Figure size 173.376x144.48 with 1 Axes>"
      ]
     },
     "execution_count": 11,
     "metadata": {},
     "output_type": "execute_result"
    }
   ],
   "source": [
    "circuito_12.draw(output='mpl')"
   ]
  },
  {
   "cell_type": "code",
   "execution_count": 12,
   "metadata": {},
   "outputs": [
    {
     "name": "stdout",
     "output_type": "stream",
     "text": [
      "{'0': 1000}\n"
     ]
    }
   ],
   "source": [
    "#Ejecuto la simulación\n",
    "simulador = Aer.get_backend('qasm_simulator')\n",
    "ejecucion = execute(circuito_12, backend=simulador, shots=1000)\n",
    "resultado = ejecucion.result()\n",
    "conteos = resultado.get_counts()\n",
    "print(conteos)"
   ]
  },
  {
   "cell_type": "code",
   "execution_count": 13,
   "metadata": {},
   "outputs": [
    {
     "data": {
      "image/png": "[encoded data removed]",
      "text/plain": [
       "<Figure size 504x360 with 1 Axes>"
      ]
     },
     "execution_count": 13,
     "metadata": {},
     "output_type": "execute_result"
    }
   ],
   "source": [
    "plot_histogram(conteos)"
   ]
  },
  {
   "cell_type": "markdown",
   "metadata": {},
   "source": [
    "**1.3. Experimento:** Cuando un qubit esta inicializado en $|0>\\rangle$ el resultado de la medición debe ser, en teoria, siempre $|0>\\rangle$(con probabilidad del 100%). 1000 shots en computador cuantico real"
   ]
  },
  {
   "cell_type": "code",
   "execution_count": 14,
   "metadata": {},
   "outputs": [
    {
     "data": {
      "text/plain": [
       "<AccountProvider for IBMQ(hub='ibm-q', group='open', project='main')>"
      ]
     },
     "execution_count": 14,
     "metadata": {},
     "output_type": "execute_result"
    }
   ],
   "source": [
    "from qiskit import IBMQ\n",
    "IBMQ.load_account()"
   ]
  },
  {
   "cell_type": "code",
   "execution_count": 17,
   "metadata": {},
   "outputs": [
    {
     "name": "stdout",
     "output_type": "stream",
     "text": [
      "Job Status: job has successfully run\n",
      "{'0': 990, '1': 10}\n"
     ]
    }
   ],
   "source": [
    "#Ejecución en un computador cuantico real\n",
    "proveedor = IBMQ.get_provider('ibm-q')\n",
    "comp_cuantico = proveedor.get_backend('ibmq_burlington')\n",
    "ejecucion = execute(circuito_12, backend=comp_cuantico,shots=1000)\n",
    "\n",
    "from qiskit.tools.monitor import job_monitor\n",
    "\n",
    "job_monitor(ejecucion)\n",
    "\n",
    "resultado = ejecucion.result()\n",
    "conteos = resultado.get_counts()\n",
    "print(conteos)"
   ]
  },
  {
   "cell_type": "code",
   "execution_count": 20,
   "metadata": {},
   "outputs": [
    {
     "data": {
      "image/png": "[encoded data removed]",
      "text/plain": [
       "<Figure size 504x360 with 1 Axes>"
      ]
     },
     "execution_count": 20,
     "metadata": {},
     "output_type": "execute_result"
    }
   ],
   "source": [
    "plot_histogram(conteos)"
   ]
  },
  {
   "cell_type": "markdown",
   "metadata": {},
   "source": [
    "**1.4. Experimento:** Cuando un qubit esta inicializado en $|1>\\rangle$ el resultado de la medición debe ser, en teoria, siempre $|1>\\rangle$(con probabilidad del 100%). 1000 shots en computador cuantico real"
   ]
  },
  {
   "cell_type": "code",
   "execution_count": 28,
   "metadata": {},
   "outputs": [
    {
     "data": {
      "text/plain": [
       "<qiskit.circuit.instructionset.InstructionSet at 0x1ac67e1ad60>"
      ]
     },
     "execution_count": 28,
     "metadata": {},
     "output_type": "execute_result"
    }
   ],
   "source": [
    "circuito_14 = QuantumCircuit(1,1)\n",
    "circuito_14.x(0)\n",
    "circuito_14.measure(0,0)"
   ]
  },
  {
   "cell_type": "code",
   "execution_count": 22,
   "metadata": {},
   "outputs": [
    {
     "data": {
      "image/png": "[encoded data removed]",
      "text/plain": [
       "<Figure size 233.576x144.48 with 1 Axes>"
      ]
     },
     "execution_count": 22,
     "metadata": {},
     "output_type": "execute_result"
    }
   ],
   "source": [
    "circuito_14.draw(output='mpl')"
   ]
  },
  {
   "cell_type": "markdown",
   "metadata": {},
   "source": [
    "**1.5. Experimento:** Cuando un qubit esta inicializado en $|1>\\rangle$ el resultado de la medición debe ser, en teoria, siempre $|1>\\rangle$(con probabilidad del 100%). 1000 shots en computador cuantico real"
   ]
  },
  {
   "cell_type": "code",
   "execution_count": 30,
   "metadata": {},
   "outputs": [
    {
     "data": {
      "text/plain": [
       "<qiskit.circuit.instructionset.InstructionSet at 0x1ac67e244c0>"
      ]
     },
     "execution_count": 30,
     "metadata": {},
     "output_type": "execute_result"
    }
   ],
   "source": [
    "circuito_15 = QuantumCircuit(1,1)\n",
    "circuito_15.x(0)\n",
    "circuito_15.measure(0,0)"
   ]
  },
  {
   "cell_type": "markdown",
   "metadata": {},
   "source": [
    "**1.7. Experimento:** Cuando un qubit está inicializado en una superposición de los estados $|0\\rangle$ y $|1\\rangle$ (se logra aplicando la compuerta **H** al estado $|0\\rangle$) dada por:\n",
    "\n",
    "$$|\\psi\\rangle = \\frac{1}{\\sqrt{2}} |0\\rangle + \\frac{1}{\\sqrt{2}} |1\\rangle$$\n",
    "\n",
    "El resultado de la medición debe ser o $|0\\rangle$ con probabilidad del 50% o $|1\\rangle$ con probabilidad del 50%. 1 shot en un simulador."
   ]
  },
  {
   "cell_type": "code",
   "execution_count": 31,
   "metadata": {},
   "outputs": [
    {
     "data": {
      "text/plain": [
       "<qiskit.circuit.instructionset.InstructionSet at 0x1ac67e243d0>"
      ]
     },
     "execution_count": 31,
     "metadata": {},
     "output_type": "execute_result"
    }
   ],
   "source": [
    "circuito_17 = QuantumCircuit(1,1)\n",
    "circuito_17.h(0)\n",
    "circuito_17.measure(0,0)"
   ]
  },
  {
   "cell_type": "code",
   "execution_count": 32,
   "metadata": {},
   "outputs": [
    {
     "data": {
      "image/png": "[encoded data removed]",
      "text/plain": [
       "<Figure size 233.576x144.48 with 1 Axes>"
      ]
     },
     "execution_count": 32,
     "metadata": {},
     "output_type": "execute_result"
    }
   ],
   "source": [
    "#Dibujamos el circuito\n",
    "circuito_17.draw(output='mpl')"
   ]
  },
  {
   "cell_type": "code",
   "execution_count": 39,
   "metadata": {},
   "outputs": [
    {
     "name": "stdout",
     "output_type": "stream",
     "text": [
      "Job Status: job has successfully run\n",
      "{'0': 500, '1': 500}\n"
     ]
    }
   ],
   "source": [
    "ejecucion = execute(circuito_17, backend=comp_cuantico,shots=1000)\n",
    "\n",
    "from qiskit.tools.monitor import job_monitor\n",
    "\n",
    "job_monitor(ejecucion)\n",
    "\n",
    "resultado = ejecucion.result()\n",
    "conteos = resultado.get_counts()\n",
    "print(conteos)"
   ]
  },
  {
   "cell_type": "code",
   "execution_count": 34,
   "metadata": {},
   "outputs": [
    {
     "data": {
      "image/png": "[encoded data removed]",
      "text/plain": [
       "<Figure size 504x360 with 1 Axes>"
      ]
     },
     "execution_count": 34,
     "metadata": {},
     "output_type": "execute_result"
    }
   ],
   "source": [
    "plot_histogram(conteos)"
   ]
  },
  {
   "cell_type": "markdown",
   "metadata": {},
   "source": [
    "# 2. Suma cuántica\n",
    "*El siguiente circuito nos permite calcular el resultado de la suma 1 + 1 usando un computador cuántico*"
   ]
  },
  {
   "cell_type": "code",
   "execution_count": 36,
   "metadata": {},
   "outputs": [
    {
     "data": {
      "image/png": "[encoded data removed]",
      "text/plain": [
       "<Figure size 539.392x325.08 with 1 Axes>"
      ]
     },
     "execution_count": 36,
     "metadata": {},
     "output_type": "execute_result"
    }
   ],
   "source": [
    "circuito_suma = QuantumCircuit(4,2)\n",
    "# inicializo num_1 = 1\n",
    "circuito_suma\n",
    "# inicializo num_2 = 1\n",
    "circuito_suma.x(1)\n",
    "#\n",
    "circuito_suma.barrier()\n",
    "#\n",
    "circuito_suma.cx(0, 3)\n",
    "circuito_suma.cx(1, 3)\n",
    "circuito_suma.ccx(0, 1, 2)\n",
    "#\n",
    "circuito_suma.measure(2, 0)\n",
    "circuito_suma.measure(3, 1)\n",
    "#Dibujo el circuito\n",
    "circuito_suma.draw(output = 'mpl')\n"
   ]
  },
  {
   "cell_type": "code",
   "execution_count": 37,
   "metadata": {},
   "outputs": [
    {
     "name": "stdout",
     "output_type": "stream",
     "text": [
      "Job Status: job has successfully run\n",
      "{'10': 487, '00': 260, '01': 112, '11': 141}\n"
     ]
    }
   ],
   "source": [
    "ejecucion = execute(circuito_suma, backend=comp_cuantico,shots=1000)\n",
    "\n",
    "job_monitor(ejecucion)\n",
    "\n",
    "resultado = ejecucion.result()\n",
    "conteos = resultado.get_counts()\n",
    "print(conteos)"
   ]
  },
  {
   "cell_type": "code",
   "execution_count": 38,
   "metadata": {},
   "outputs": [
    {
     "data": {
      "image/png": "[encoded data removed]",
      "text/plain": [
       "<Figure size 504x360 with 1 Axes>"
      ]
     },
     "execution_count": 38,
     "metadata": {},
     "output_type": "execute_result"
    }
   ],
   "source": [
    "plot_histogram(conteos)"
   ]
  },
  {
   "cell_type": "code",
   "execution_count": null,
   "metadata": {},
   "outputs": [],
   "source": []
  }
 ],
 "metadata": {
  "kernelspec": {
   "display_name": "Python 3",
   "language": "python",
   "name": "python3"
  },
  "language_info": {
   "codemirror_mode": {
    "name": "ipython",
    "version": 3
   },
   "file_extension": ".py",
   "mimetype": "text/x-python",
   "name": "python",
   "nbconvert_exporter": "python",
   "pygments_lexer": "ipython3",
   "version": "3.8.3"
  }
 },
 "nbformat": 4,
 "nbformat_minor": 4
}
