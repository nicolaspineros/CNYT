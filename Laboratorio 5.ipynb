{
 "cells": [
  {
   "cell_type": "markdown",
   "metadata": {},
   "source": [
    "# Laboratorio #5\n",
    "### Nombre: Edgar Ronaldo Henao Villarreal"
   ]
  },
  {
   "cell_type": "markdown",
   "metadata": {},
   "source": [
    "Antes de comenzar usamos algunas instrucciones importantes para realizar el laboratorio"
   ]
  },
  {
   "cell_type": "code",
   "execution_count": 1,
   "metadata": {},
   "outputs": [],
   "source": [
    "from qiskit import QuantumCircuit, Aer, execute\n",
    "from qiskit.visualization import plot_histogram\n",
    "%matplotlib inline\n",
    "import numpy as np\n",
    "def decimal_a_binario(n, k):\n",
    "    '''\n",
    "    Esta función recibe una longitud n y un entero k. Retorna una lista de longitud n tal que cada elemento\n",
    "    es un dígito de la representación binaria de k.\n",
    "    '''\n",
    "    \n",
    "    lista_binaria = []\n",
    "    \n",
    "    for i in reversed(range(n)):\n",
    "        bit = k // 2**i\n",
    "        k = k % 2**i\n",
    "        lista_binaria.append(bit)\n",
    "    \n",
    "    return lista_binaria\n",
    "def evaluar_oraculo_en_c(oraculo, c):\n",
    "    \n",
    "    \n",
    "    tam = oraculo.num_qubits   # Tamaño o número de qubits que abarca el oráculo. No cambiar.\n",
    "    \n",
    "    ## Declaren el circuito cuántico con los parámetros adecuados:\n",
    "    circuito = QuantumCircuit(len(c)+1, 1)      \n",
    "    \n",
    "    ## Inicialización\n",
    "    ## Usen este ciclo for y un condicional if dentro del for para inicializar con el valor de c \n",
    "    ## los alambres superiores según los bits contenidos en la lista c. \n",
    "    for i in range(len(c)):\n",
    "        circuito.x(i) if c[i] == 1 else None\n",
    "            \n",
    "    # Insertar circuito. No cambiar el segundo parámetro.\n",
    "    circuito.append(oraculo, list(range(tam)))\n",
    "    \n",
    "    ## Medición\n",
    "    ## Añadan la medición con los parámetros adecuados:\n",
    "    circuito.measure(len(c), 0)\n",
    "    \n",
    "    ## Realización de la simulación con 1 shot \n",
    "    simulador = Aer.get_backend('qasm_simulator')\n",
    "    conteos = execute(circuito, backend=simulador, shots=1).result().get_counts()\n",
    "    valor_orac_en_c = int(list(conteos.keys())[0]) # No cambiar. Extrae del diccionario el estado medido\n",
    "    \n",
    "    ## Retornar lo solicitado en las indicaciones\n",
    "    return valor_orac_en_c\n",
    "def tabular_oraculo(oraculo):\n",
    "    '''\n",
    "    Esta función recibe como argumento una compuerta cuántica (oráculo) e imprime la tabulación de los valores\n",
    "    de f para toda cadena en su dominio.\n",
    "    '''\n",
    "    n = oraculo.num_qubits - 1   # Determina la longitud de las cadenas de 0s y 1s en el conjunto de salida de f.\n",
    "    \n",
    "    ## Crear un print que escriba el título de la tabulación según lo pedido en las indicaciones\n",
    "    \n",
    "    print(\"Tabla de valores de la función f:{0, 1}^\"+str(n)+\" ---> {0, 1}\")\n",
    "    \n",
    "    # Este ciclo for debe recorrer los enteros de 0 a 2^n - 1. Notemos que al pasar esos números \n",
    "    # a binario obtendremos todas las posibles cadenas de 0s y 1s de longitud n. \n",
    "    # (Desde 00...0 hasta 11...1)\n",
    "     \n",
    "    # Completar \n",
    "    for i in range(2**n):\n",
    "        \n",
    "        ## Completar con los parámetros adecuados para obtener una lista que contenga la \n",
    "        ## representación binaria del contador del ciclo.\n",
    "        s = decimal_a_binario(n, i)\n",
    "        \n",
    "        ## La variable 'valor' debe corresponder al valor de f(s) y debe hallarse usando la \n",
    "        ## función del ejercicio anterior\n",
    "        valor = evaluar_oraculo_en_c(oraculo, s)\n",
    "        \n",
    "        lista_a_cadena = ''.join([str(bit) for bit in s]) # Simplemente convierte la lista s a cadena para su\n",
    "                                                          # uso en el print. No cambiar.\n",
    "        \n",
    "        ## Completar el print para que escriba la línea solicitada en las indicaciones.\n",
    "        print(\"f({}) = {}\".format(lista_a_cadena, valor))\n",
    "       \n",
    "    return"
   ]
  },
  {
   "cell_type": "markdown",
   "metadata": {},
   "source": [
    "En este laboratorio vamos a analizar 3 funciones, estas se muestran a continuación:"
   ]
  },
  {
   "cell_type": "markdown",
   "metadata": {},
   "source": [
    "## 1. Funcion\n",
    "$$f(000) = 1, f(001) = 1, f(010) = 1, f(011) = 1, f(100) = 0, f(101) = 0, f(110) = 0 , f(111) = 0.$$ "
   ]
  },
  {
   "cell_type": "markdown",
   "metadata": {},
   "source": [
    "La funcion es representada en la imagen\n",
    "<img src = \"funcion1.jpg\" style = \"float:center\" width = \"40%\">"
   ]
  },
  {
   "cell_type": "markdown",
   "metadata": {},
   "source": [
    "En palabras textuales:\n",
    "#### Las cadenas que comienzan en 1 van a 1 y las que comienzan en 0 van a 0. \n",
    "El circuito que representa la funcion anteriormente expuesta es:"
   ]
  },
  {
   "cell_type": "code",
   "execution_count": 3,
   "metadata": {},
   "outputs": [
    {
     "data": {
      "image/png": "[encoded data removed]",
      "text/plain": [
       "<Figure size 261.177x264.88 with 1 Axes>"
      ]
     },
     "execution_count": 3,
     "metadata": {},
     "output_type": "execute_result"
    }
   ],
   "source": [
    "qc1 = QuantumCircuit(4)\n",
    "qc1.cx(0,3)\n",
    "qc1.x(0)\n",
    "qc1.draw('mpl')"
   ]
  },
  {
   "cell_type": "markdown",
   "metadata": {},
   "source": [
    "La idea del circuito anterior es basicamente realizar un CNOT controlado al primer qubit, cuando este es 0, nuestro resultado debe ser 0. Nuestra compuerta x es mas opcion personal y no incurre en el resultado final del oraculo."
   ]
  },
  {
   "cell_type": "code",
   "execution_count": 5,
   "metadata": {},
   "outputs": [],
   "source": [
    "oraculo1 = qc1.to_gate()\n",
    "oraculo1.name = \"orac1\""
   ]
  },
  {
   "cell_type": "code",
   "execution_count": 6,
   "metadata": {},
   "outputs": [
    {
     "name": "stdout",
     "output_type": "stream",
     "text": [
      "Tabla de valores de la función f:{0, 1}^3 ---> {0, 1}\n",
      "f(000) = 0\n",
      "f(001) = 0\n",
      "f(010) = 0\n",
      "f(011) = 0\n",
      "f(100) = 1\n",
      "f(101) = 1\n",
      "f(110) = 1\n",
      "f(111) = 1\n"
     ]
    }
   ],
   "source": [
    "tabular_oraculo(oraculo1)"
   ]
  },
  {
   "cell_type": "code",
   "execution_count": 24,
   "metadata": {},
   "outputs": [
    {
     "data": {
      "image/png": "[encoded data removed]",
      "text/plain": [
       "<Figure size 622.377x325.08 with 1 Axes>"
      ]
     },
     "execution_count": 24,
     "metadata": {},
     "output_type": "execute_result"
    }
   ],
   "source": [
    "qcprueba = QuantumCircuit(4,3)\n",
    "qcprueba.x(3)\n",
    "qcprueba.h([0,1,2,3])\n",
    "qcprueba.append(oraculo1,[0,1,2,3])\n",
    "qcprueba.h([0,1,2])\n",
    "qcprueba.measure([0,1,2],[0,1,2])\n",
    "qcprueba.draw('mpl')"
   ]
  },
  {
   "cell_type": "code",
   "execution_count": 30,
   "metadata": {
    "scrolled": true
   },
   "outputs": [
    {
     "name": "stderr",
     "output_type": "stream",
     "text": [
      "ibmqfactory.load_account:WARNING:2020-10-30 14:37:23,777: Credentials are already in use. The existing account in the session will be replaced.\n"
     ]
    },
    {
     "name": "stdout",
     "output_type": "stream",
     "text": [
      "Job Status: job has successfully run\n",
      "{'000': 58, '001': 890, '010': 12, '011': 10, '100': 6, '101': 23, '111': 1}\n"
     ]
    }
   ],
   "source": [
    "from qiskit import IBMQ\n",
    "IBMQ.load_account()\n",
    "proveedor = IBMQ.get_provider('ibm-q')\n",
    "# Ejecucion en un computador cuantico real\n",
    "proveedor = IBMQ.get_provider('ibm-q')\n",
    "comp_cuantico = proveedor.get_backend('ibmq_athens')\n",
    "ejecucion = execute(qcprueba,backend = comp_cuantico,shots = 1000)\n",
    "from qiskit.tools.monitor import job_monitor\n",
    "job_monitor(ejecucion)\n",
    "resultado = ejecucion.result()\n",
    "conteos = resultado.get_counts()\n",
    "print(conteos)"
   ]
  },
  {
   "cell_type": "markdown",
   "metadata": {},
   "source": [
    "### Observaciones\n",
    "Como observamos del experimento anterior, el estado $|000\\rangle$ solo se obtiene un $5.8\\%$ de los shots simulados, lo cual es de esperarse debido al oraculo que hemos construido, y las adiciones que le hicimos a nuestra funcion"
   ]
  },
  {
   "cell_type": "markdown",
   "metadata": {},
   "source": [
    "## 2. Funcion"
   ]
  },
  {
   "cell_type": "markdown",
   "metadata": {},
   "source": [
    "Las cadenas que van a 0 son: 001, 011, 100 y 101. Las demás van al 1.\n",
    "La funcion es representada en la imagen\n",
    "<img src = \"funcion2.jpg\" style = \"float:center\" width = \"40%\">"
   ]
  },
  {
   "cell_type": "markdown",
   "metadata": {},
   "source": [
    "La descripcion de la funcion es:\n",
    "#### Cadenas que finalizan en 00 o en 10, se hace intercambio 111 por 100.\n",
    "El circuito que representa la funcion anteriormente expuesta es:"
   ]
  },
  {
   "cell_type": "code",
   "execution_count": 15,
   "metadata": {},
   "outputs": [
    {
     "data": {
      "image/png": "[encoded data removed]",
      "text/plain": [
       "<Figure size 983.577x264.88 with 1 Axes>"
      ]
     },
     "execution_count": 15,
     "metadata": {},
     "output_type": "execute_result"
    }
   ],
   "source": [
    "qc2 = QuantumCircuit(4)\n",
    "qc2.ccx(0,2,1)\n",
    "qc2.x(1)\n",
    "qc2.ccx(0,1,2)\n",
    "qc2.x(1)\n",
    "qc2.x(2)\n",
    "qc2.x(1)\n",
    "qc2.ccx(1,2,3)\n",
    "qc2.x(1)\n",
    "qc2.x(2)\n",
    "qc2.x(2)\n",
    "qc2.ccx(1,2,3)\n",
    "qc2.x(2)\n",
    "qc2.ccx(0,2,1)\n",
    "qc2.x(1)\n",
    "qc2.ccx(0,1,2)\n",
    "qc2.x(1)\n",
    "qc2.draw('mpl')"
   ]
  },
  {
   "cell_type": "markdown",
   "metadata": {},
   "source": [
    "La idea del circuito anterior es basicamente realizar el intercambio de la cadena 111 por 100, para lo cual se uso un toffoli con controles en los qubits 0 y 2 y la accion en el qubit 1. \n",
    "\n",
    "Luego procedemos a ingresar otro toffoli con control en el qubit 0 y 1 teniendo sensibilidad a 0 en el qubit 1 y accion en el qubit 2.\n",
    "\n",
    "Procedemos ahora si a la realizacion del circuito que seria basicamente emular las cadenas finalizadas en $00$ para esto usamos un toffoli en qubits controlados 1 y 2, no sin antes añadirle sensibilidad a estos qubits en 0. Finalmente aplicamos nuevamente toffoli a los mismos qubits pero añadiendolo sensibilidad a 0 al qubit 2."
   ]
  },
  {
   "cell_type": "code",
   "execution_count": 22,
   "metadata": {},
   "outputs": [],
   "source": [
    "oraculo2 = qc2.to_gate()\n",
    "oraculo2.name = \"orac2\""
   ]
  },
  {
   "cell_type": "code",
   "execution_count": 18,
   "metadata": {},
   "outputs": [
    {
     "name": "stdout",
     "output_type": "stream",
     "text": [
      "Tabla de valores de la función f:{0, 1}^3 ---> {0, 1}\n",
      "f(000) = 1\n",
      "f(001) = 0\n",
      "f(010) = 1\n",
      "f(011) = 0\n",
      "f(100) = 0\n",
      "f(101) = 0\n",
      "f(110) = 1\n",
      "f(111) = 1\n"
     ]
    }
   ],
   "source": [
    "tabular_oraculo(oraculo2)"
   ]
  },
  {
   "cell_type": "code",
   "execution_count": 23,
   "metadata": {},
   "outputs": [
    {
     "data": {
      "image/png": "[encoded data removed]",
      "text/plain": [
       "<Figure size 622.377x325.08 with 1 Axes>"
      ]
     },
     "execution_count": 23,
     "metadata": {},
     "output_type": "execute_result"
    }
   ],
   "source": [
    "qcprueba1 = QuantumCircuit(4,3)\n",
    "qcprueba1.x(3)\n",
    "qcprueba1.h([0,1,2,3])\n",
    "qcprueba1.append(oraculo2,[0,1,2,3])\n",
    "qcprueba1.h([0,1,2])\n",
    "qcprueba1.measure([0,1,2],[0,1,2])\n",
    "qcprueba1.draw('mpl')"
   ]
  },
  {
   "cell_type": "code",
   "execution_count": 31,
   "metadata": {},
   "outputs": [
    {
     "name": "stderr",
     "output_type": "stream",
     "text": [
      "ibmqfactory.load_account:WARNING:2020-10-30 14:48:37,915: Credentials are already in use. The existing account in the session will be replaced.\n"
     ]
    },
    {
     "name": "stdout",
     "output_type": "stream",
     "text": [
      "Job Status: job has successfully run\n",
      "{'000': 93, '001': 49, '010': 53, '011': 56, '100': 194, '101': 225, '110': 152, '111': 178}\n"
     ]
    }
   ],
   "source": [
    "from qiskit import IBMQ\n",
    "IBMQ.load_account()\n",
    "proveedor = IBMQ.get_provider('ibm-q')\n",
    "# Ejecucion en un computador cuantico real\n",
    "proveedor = IBMQ.get_provider('ibm-q')\n",
    "comp_cuantico = proveedor.get_backend('ibmq_athens')\n",
    "ejecucion = execute(qcprueba1,backend = comp_cuantico,shots = 1000)\n",
    "from qiskit.tools.monitor import job_monitor\n",
    "job_monitor(ejecucion)\n",
    "resultado = ejecucion.result()\n",
    "conteos = resultado.get_counts()\n",
    "print(conteos)"
   ]
  },
  {
   "cell_type": "markdown",
   "metadata": {},
   "source": [
    "### Observaciones\n",
    "\n",
    "Como observamos del experimento anterior, el estado $|000\\rangle$ se repite un $9.3\\%$ de las veces lo cual quiere mostrar que es un porcentaje bastante pequeño y uno de los estados mas improbables como observamos en el anterior experimento--"
   ]
  },
  {
   "cell_type": "markdown",
   "metadata": {},
   "source": [
    "## 3. Funcion\n",
    "\n",
    "Las cadenas que van al 1 son: 001, 010, 101, 111. Las demás van al 0. La representacion es:\n",
    "<img src = \"funcion3.jpg\" style = \"float:center\" width = \"40%\">"
   ]
  },
  {
   "cell_type": "markdown",
   "metadata": {},
   "source": [
    "La descripcion de la funcion es:\n",
    "#### Las cadenas que finalizan en 01 o en 10 intercambiando 111 por 110\n",
    "El circuito que representa la funcion anteriormente expuesta es:"
   ]
  },
  {
   "cell_type": "code",
   "execution_count": 26,
   "metadata": {},
   "outputs": [
    {
     "data": {
      "image/png": "[encoded data removed]",
      "text/plain": [
       "<Figure size 562.177x264.88 with 1 Axes>"
      ]
     },
     "execution_count": 26,
     "metadata": {},
     "output_type": "execute_result"
    }
   ],
   "source": [
    "qc3 = QuantumCircuit(4)\n",
    "qc3.ccx(0,1,2)\n",
    "qc3.x(1)\n",
    "qc3.ccx(1,2,3)\n",
    "qc3.x(1)\n",
    "qc3.x(2)\n",
    "qc3.ccx(1,2,3)\n",
    "qc3.x(2)\n",
    "qc3.ccx(0,1,2)\n",
    "qc3.draw('mpl')"
   ]
  },
  {
   "cell_type": "markdown",
   "metadata": {},
   "source": [
    "Aplicamos un toffoli controlando qubits 0 y 1 con accion en 2 para intercambiar la cadena $111$ por la cadena $110$\n",
    "\n",
    "Luego aplicamos otro toffoli con control en qubits 1 y 2 y colocando sensibilidad a 0 en el qubit 1. Repetimos pero la sensibilidad ahora se aplica al qubit 2. Asi emulamos la descripcion propuesta"
   ]
  },
  {
   "cell_type": "code",
   "execution_count": 27,
   "metadata": {},
   "outputs": [],
   "source": [
    "oraculo3 = qc3.to_gate()\n",
    "oraculo3.name = \"orac3\""
   ]
  },
  {
   "cell_type": "code",
   "execution_count": 28,
   "metadata": {},
   "outputs": [
    {
     "name": "stdout",
     "output_type": "stream",
     "text": [
      "Tabla de valores de la función f:{0, 1}^3 ---> {0, 1}\n",
      "f(000) = 0\n",
      "f(001) = 1\n",
      "f(010) = 1\n",
      "f(011) = 0\n",
      "f(100) = 0\n",
      "f(101) = 1\n",
      "f(110) = 0\n",
      "f(111) = 1\n"
     ]
    }
   ],
   "source": [
    "tabular_oraculo(oraculo3)"
   ]
  },
  {
   "cell_type": "code",
   "execution_count": 29,
   "metadata": {},
   "outputs": [
    {
     "data": {
      "image/png": "[encoded data removed]",
      "text/plain": [
       "<Figure size 622.377x325.08 with 1 Axes>"
      ]
     },
     "execution_count": 29,
     "metadata": {},
     "output_type": "execute_result"
    }
   ],
   "source": [
    "qcprueba2 = QuantumCircuit(4,3)\n",
    "qcprueba2.x(3)\n",
    "qcprueba2.h([0,1,2,3])\n",
    "qcprueba2.append(oraculo2,[0,1,2,3])\n",
    "qcprueba2.h([0,1,2])\n",
    "qcprueba2.measure([0,1,2],[0,1,2])\n",
    "qcprueba2.draw('mpl')"
   ]
  },
  {
   "cell_type": "code",
   "execution_count": 32,
   "metadata": {},
   "outputs": [
    {
     "name": "stderr",
     "output_type": "stream",
     "text": [
      "ibmqfactory.load_account:WARNING:2020-10-30 15:02:18,571: Credentials are already in use. The existing account in the session will be replaced.\n"
     ]
    },
    {
     "name": "stdout",
     "output_type": "stream",
     "text": [
      "Job Status: job has successfully run\n",
      "{'000': 114, '001': 105, '010': 91, '011': 86, '100': 140, '101': 162, '110': 145, '111': 157}\n"
     ]
    }
   ],
   "source": [
    "from qiskit import IBMQ\n",
    "IBMQ.load_account()\n",
    "proveedor = IBMQ.get_provider('ibm-q')\n",
    "# Ejecucion en un computador cuantico real\n",
    "proveedor = IBMQ.get_provider('ibm-q')\n",
    "comp_cuantico = proveedor.get_backend('ibmq_athens')\n",
    "ejecucion = execute(qcprueba1,backend = comp_cuantico,shots = 1000)\n",
    "from qiskit.tools.monitor import job_monitor\n",
    "job_monitor(ejecucion)\n",
    "resultado = ejecucion.result()\n",
    "conteos = resultado.get_counts()\n",
    "print(conteos)"
   ]
  },
  {
   "cell_type": "markdown",
   "metadata": {},
   "source": [
    "### Observaciones\n",
    "Como observamos del experimento anterior, el estado $|000\\rangle$ nuevamente se repite pocas veces. \n"
   ]
  },
  {
   "cell_type": "markdown",
   "metadata": {},
   "source": [
    "## Observaciones finales\n",
    "Todos los experimentos fueron realizados en el computador cuantico de Atenas, por lo que los resultados pueden variar.\n",
    "Como observamos de los experimentos, los tres primeros estados son los menos repetidos, exceptuando esta observacion en el primer experimento.\n",
    "\n",
    "En cuanto al estado $|000\\rangle$ observamos que el porcentaje de variacion no es muy alto, en lo personal creo que esto se debe a la estructura presentada en el algoritmo.\n"
   ]
  }
 ],
 "metadata": {
  "kernelspec": {
   "display_name": "Python 3",
   "language": "python",
   "name": "python3"
  },
  "language_info": {
   "codemirror_mode": {
    "name": "ipython",
    "version": 3
   },
   "file_extension": ".py",
   "mimetype": "text/x-python",
   "name": "python",
   "nbconvert_exporter": "python",
   "pygments_lexer": "ipython3",
   "version": "3.8.3"
  }
 },
 "nbformat": 4,
 "nbformat_minor": 4
}
